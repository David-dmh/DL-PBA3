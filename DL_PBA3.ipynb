{
  "nbformat": 4,
  "nbformat_minor": 0,
  "metadata": {
    "colab": {
      "name": "DL_PBA3.ipynb",
      "provenance": [],
      "collapsed_sections": [],
      "include_colab_link": true
    },
    "kernelspec": {
      "display_name": "Python 3",
      "language": "python",
      "name": "python3"
    },
    "language_info": {
      "codemirror_mode": {
        "name": "ipython",
        "version": 3
      },
      "file_extension": ".py",
      "mimetype": "text/x-python",
      "name": "python",
      "nbconvert_exporter": "python",
      "pygments_lexer": "ipython3",
      "version": "3.7.10"
    }
  },
  "cells": [
    {
      "cell_type": "markdown",
      "metadata": {
        "id": "view-in-github",
        "colab_type": "text"
      },
      "source": [
        "<a href=\"https://colab.research.google.com/github/David-dmh/DL-PBA3/blob/main/DL_PBA3.ipynb\" target=\"_parent\"><img src=\"https://colab.research.google.com/assets/colab-badge.svg\" alt=\"Open In Colab\"/></a>"
      ]
    },
    {
      "cell_type": "code",
      "metadata": {
        "id": "H5H488FOfNbC"
      },
      "source": [
        "from google.colab import files\n",
        "from pydrive.auth import GoogleAuth\n",
        "from pydrive.drive import GoogleDrive\n",
        "from google.colab import auth\n",
        "from oauth2client.client import GoogleCredentials"
      ],
      "execution_count": null,
      "outputs": []
    },
    {
      "cell_type": "code",
      "metadata": {
        "id": "V6rjiY9EcXQS"
      },
      "source": [
        "import pandas as pd\n",
        "import numpy as np\n",
        "import matplotlib.pyplot as plt\n",
        "import seaborn as sns\n",
        "import io\n",
        "import copy\n",
        "import os\n",
        "import time\n",
        "import random\n",
        "from random import randint\n",
        "import shutil\n",
        "import datetime\n",
        "import re\n",
        "import glob\n",
        "import imageio\n",
        "import PIL\n",
        "import time\n",
        "from IPython import display\n",
        "from nltk.corpus import stopwords\n",
        "from sklearn.model_selection import train_test_split\n",
        "from sklearn.metrics import accuracy_score, precision_score, recall_score, f1_score\n",
        "from tqdm.notebook import tqdm \n",
        "\n",
        "import tensorflow as tf\n",
        "from tensorflow import keras\n",
        "from keras.datasets import mnist\n",
        "from tensorflow.keras import layers\n",
        "from keras.callbacks import EarlyStopping, TensorBoard\n",
        "from keras.preprocessing.text import Tokenizer\n",
        "from keras.preprocessing.sequence import pad_sequences\n",
        "from keras.models import Sequential, Model\n",
        "from keras.layers.advanced_activations import LeakyReLU\n",
        "from keras.optimizers import Adam, RMSprop\n",
        "from keras.regularizers import l1\n",
        "from keras.utils import np_utils\n",
        "from keras.utils.np_utils import to_categorical\n",
        "\n",
        "%load_ext tensorboard\n"
      ],
      "execution_count": null,
      "outputs": []
    },
    {
      "cell_type": "markdown",
      "metadata": {
        "id": "jJDdp1QLUNKg"
      },
      "source": [
        "# Convolutional Neural Networks"
      ]
    },
    {
      "cell_type": "code",
      "metadata": {
        "id": "M_hgMyzGUeI1"
      },
      "source": [
        "auth.authenticate_user()\n",
        "gauth = GoogleAuth()\n",
        "gauth.credentials = GoogleCredentials.get_application_default()\n",
        "drive = GoogleDrive(gauth)\n",
        "download = drive.CreateFile({\"id\": \"1HuImqzXa6gzpdr3v6tF_Nfgvj16rao2g\"})\n",
        "download.GetContentFile(\"x_train_planes.npy\")\n",
        "X_train_planes = np.load(\"x_train_planes.npy\")\n",
        "\n",
        "download = drive.CreateFile({\"id\": \"10a_hx_irAKWFdcjgpu7_DhlLJBt129vs\"})\n",
        "download.GetContentFile(\"y_train_planes.npy\")\n",
        "y_train_planes = np.load(\"y_train_planes.npy\")\n",
        "\n",
        "download = drive.CreateFile({\"id\": \"1zCM1BOs44Sp4wMHKE0idjTWHNnIyGX4R\"})\n",
        "download.GetContentFile(\"x_test_planes.npy\")\n",
        "X_test_planes = np.load(\"x_test_planes.npy\")\n",
        "\n",
        "download = drive.CreateFile({\"id\": \"1fYXPKl8yEacuHVpHxVb4G7awyLMO2JUC\"})\n",
        "download.GetContentFile(\"y_test_planes.npy\")\n",
        "y_test_planes = np.load(\"y_test_planes.npy\")"
      ],
      "execution_count": null,
      "outputs": []
    },
    {
      "cell_type": "code",
      "metadata": {
        "colab": {
          "base_uri": "https://localhost:8080/"
        },
        "id": "9EQQ9v_pYDBa",
        "outputId": "6406dca6-8e55-44f6-8b30-824b7403a8d0"
      },
      "source": [
        "print(X_train_planes.shape, y_train_planes.shape, X_test_planes.shape, y_test_planes.shape)"
      ],
      "execution_count": null,
      "outputs": [
        {
          "output_type": "stream",
          "text": [
            "(25600, 20, 20, 3) (25600,) (6400, 20, 20, 3) (6400,)\n"
          ],
          "name": "stdout"
        }
      ]
    },
    {
      "cell_type": "code",
      "metadata": {
        "colab": {
          "base_uri": "https://localhost:8080/",
          "height": 282
        },
        "id": "X0Bdnk-6YCk6",
        "outputId": "9ffaf012-2d0b-4d15-c46a-07ee0e537af3"
      },
      "source": [
        "def inspect_test_data(item=0):\n",
        "  plt.imshow(X_train_planes[item]); \n",
        "  print(y_train_planes[item])\n",
        "\n",
        "inspect_test_data(33)"
      ],
      "execution_count": null,
      "outputs": [
        {
          "output_type": "stream",
          "text": [
            "1\n"
          ],
          "name": "stdout"
        },
        {
          "output_type": "display_data",
          "data": {
            "image/png": "[encoded data removed]",
            "text/plain": [
              "<Figure size 432x288 with 1 Axes>"
            ]
          },
          "metadata": {
            "tags": [],
            "needs_background": "light"
          }
        }
      ]
    },
    {
      "cell_type": "code",
      "metadata": {
        "colab": {
          "base_uri": "https://localhost:8080/",
          "height": 135
        },
        "id": "y0bvZuJGTrtC",
        "outputId": "87bd41f9-6b48-48de-9fca-4626511c0518"
      },
      "source": [
        "def visualize_data(positive_images, negative_images):\n",
        "    figure = plt.figure()\n",
        "    count = 0\n",
        "    for i in range(positive_images.shape[0]):\n",
        "        count += 1\n",
        "        figure.add_subplot(2, positive_images.shape[0], count)\n",
        "        plt.imshow(positive_images[i, :, :])\n",
        "        plt.axis(\"off\")\n",
        "        plt.title(\"1\")\n",
        "        figure.add_subplot(1, negative_images.shape[0], count)\n",
        "        plt.imshow(negative_images[i, :, :])\n",
        "        plt.axis(\"off\")\n",
        "        plt.title(\"0\")\n",
        "\n",
        "    plt.show()\n",
        "\n",
        "N_TO_VISUALIZE = 10\n",
        "\n",
        "positive_example_indices = (y_train_planes == 1)\n",
        "positive_examples = X_train_planes[positive_example_indices, :, :]\n",
        "positive_examples = positive_examples[0:N_TO_VISUALIZE, :, :]\n",
        "\n",
        "negative_example_indices = (y_train_planes == 0)\n",
        "negative_examples = X_train_planes[negative_example_indices, :, :]\n",
        "negative_examples = negative_examples[0:N_TO_VISUALIZE, :, :]\n",
        "\n",
        "visualize_data(positive_examples, negative_examples)"
      ],
      "execution_count": null,
      "outputs": [
        {
          "output_type": "display_data",
          "data": {
            "image/png": "[encoded data removed]",
            "text/plain": [
              "<Figure size 432x288 with 20 Axes>"
            ]
          },
          "metadata": {
            "tags": [],
            "needs_background": "light"
          }
        }
      ]
    },
    {
      "cell_type": "markdown",
      "metadata": {
        "id": "TsqcNn1baGyl"
      },
      "source": [
        "## i."
      ]
    },
    {
      "cell_type": "code",
      "metadata": {
        "colab": {
          "base_uri": "https://localhost:8080/"
        },
        "id": "wx_O2WooaHfJ",
        "outputId": "01d87a2c-38fc-4794-cdc4-35ecafd39871"
      },
      "source": [
        "cnn_model = keras.Sequential([layers.InputLayer(input_shape=(20, 20, 3)),\n",
        "                              layers.Conv2D(32, (3, 3), activation=\"relu\"),\n",
        "                              layers.MaxPooling2D((2, 2)),\n",
        "                              layers.Flatten(),\n",
        "                              layers.Dense(32, activation=\"relu\"), \n",
        "                              layers.Dense(1, activation=\"sigmoid\")])\n",
        "cnn_model.compile(optimizer=\"adam\", \n",
        "                  loss=\"binary_crossentropy\", \n",
        "                  metrics=[\"binary_accuracy\"])\n",
        "!rm -rf ./logs/\n",
        "log_dir = \"logs/fit/\" + datetime.datetime.now().strftime(\"%Y%m%d-%H%M%S\")\n",
        "tensorboard_callback = tf.keras.callbacks.TensorBoard(log_dir=log_dir, \n",
        "                                                      histogram_freq=1)\n",
        "history_cnn = cnn_model.fit(X_train_planes, y_train_planes, \n",
        "                            validation_data=(X_test_planes, y_test_planes), \n",
        "                            batch_size=32, \n",
        "                            epochs=100,\n",
        "                            callbacks=[tensorboard_callback])"
      ],
      "execution_count": null,
      "outputs": [
        {
          "output_type": "stream",
          "text": [
            "Epoch 1/100\n",
            "800/800 [==============================] - 10s 13ms/step - loss: 0.3168 - binary_accuracy: 0.8652 - val_loss: 0.2268 - val_binary_accuracy: 0.9102\n",
            "Epoch 2/100\n",
            "800/800 [==============================] - 10s 12ms/step - loss: 0.1693 - binary_accuracy: 0.9353 - val_loss: 0.1478 - val_binary_accuracy: 0.9448\n",
            "Epoch 3/100\n",
            "800/800 [==============================] - 9s 12ms/step - loss: 0.1387 - binary_accuracy: 0.9467 - val_loss: 0.1436 - val_binary_accuracy: 0.9459\n",
            "Epoch 4/100\n",
            "800/800 [==============================] - 10s 12ms/step - loss: 0.1304 - binary_accuracy: 0.9511 - val_loss: 0.1217 - val_binary_accuracy: 0.9531\n",
            "Epoch 5/100\n",
            "800/800 [==============================] - 10s 12ms/step - loss: 0.1172 - binary_accuracy: 0.9554 - val_loss: 0.1463 - val_binary_accuracy: 0.9430\n",
            "Epoch 6/100\n",
            "800/800 [==============================] - 10s 13ms/step - loss: 0.1109 - binary_accuracy: 0.9583 - val_loss: 0.1130 - val_binary_accuracy: 0.9561\n",
            "Epoch 7/100\n",
            "800/800 [==============================] - 10s 13ms/step - loss: 0.1035 - binary_accuracy: 0.9614 - val_loss: 0.1081 - val_binary_accuracy: 0.9569\n",
            "Epoch 8/100\n",
            "800/800 [==============================] - 9s 12ms/step - loss: 0.0962 - binary_accuracy: 0.9636 - val_loss: 0.1213 - val_binary_accuracy: 0.9520\n",
            "Epoch 9/100\n",
            "800/800 [==============================] - 10s 13ms/step - loss: 0.0922 - binary_accuracy: 0.9646 - val_loss: 0.0912 - val_binary_accuracy: 0.9638\n",
            "Epoch 10/100\n",
            "800/800 [==============================] - 9s 12ms/step - loss: 0.0863 - binary_accuracy: 0.9669 - val_loss: 0.1113 - val_binary_accuracy: 0.9556\n",
            "Epoch 11/100\n",
            "800/800 [==============================] - 10s 12ms/step - loss: 0.0777 - binary_accuracy: 0.9705 - val_loss: 0.0909 - val_binary_accuracy: 0.9653\n",
            "Epoch 12/100\n",
            "800/800 [==============================] - 10s 13ms/step - loss: 0.0763 - binary_accuracy: 0.9707 - val_loss: 0.0940 - val_binary_accuracy: 0.9684\n",
            "Epoch 13/100\n",
            "800/800 [==============================] - 9s 11ms/step - loss: 0.0678 - binary_accuracy: 0.9744 - val_loss: 0.0830 - val_binary_accuracy: 0.9708\n",
            "Epoch 14/100\n",
            "800/800 [==============================] - 9s 11ms/step - loss: 0.0648 - binary_accuracy: 0.9757 - val_loss: 0.0813 - val_binary_accuracy: 0.9691\n",
            "Epoch 15/100\n",
            "800/800 [==============================] - 9s 11ms/step - loss: 0.0645 - binary_accuracy: 0.9754 - val_loss: 0.0724 - val_binary_accuracy: 0.9742\n",
            "Epoch 16/100\n",
            "800/800 [==============================] - 9s 11ms/step - loss: 0.0589 - binary_accuracy: 0.9784 - val_loss: 0.0826 - val_binary_accuracy: 0.9677\n",
            "Epoch 17/100\n",
            "800/800 [==============================] - 9s 11ms/step - loss: 0.0564 - binary_accuracy: 0.9802 - val_loss: 0.0949 - val_binary_accuracy: 0.9620\n",
            "Epoch 18/100\n",
            "800/800 [==============================] - 9s 11ms/step - loss: 0.0535 - binary_accuracy: 0.9800 - val_loss: 0.0975 - val_binary_accuracy: 0.9678\n",
            "Epoch 19/100\n",
            "800/800 [==============================] - 9s 11ms/step - loss: 0.0492 - binary_accuracy: 0.9815 - val_loss: 0.0913 - val_binary_accuracy: 0.9642\n",
            "Epoch 20/100\n",
            "800/800 [==============================] - 10s 12ms/step - loss: 0.0484 - binary_accuracy: 0.9826 - val_loss: 0.0652 - val_binary_accuracy: 0.9778\n",
            "Epoch 21/100\n",
            "800/800 [==============================] - 9s 11ms/step - loss: 0.0439 - binary_accuracy: 0.9843 - val_loss: 0.0987 - val_binary_accuracy: 0.9619\n",
            "Epoch 22/100\n",
            "800/800 [==============================] - 9s 11ms/step - loss: 0.0412 - binary_accuracy: 0.9851 - val_loss: 0.0695 - val_binary_accuracy: 0.9728\n",
            "Epoch 23/100\n",
            "800/800 [==============================] - 9s 12ms/step - loss: 0.0396 - binary_accuracy: 0.9861 - val_loss: 0.0724 - val_binary_accuracy: 0.9756\n",
            "Epoch 24/100\n",
            "800/800 [==============================] - 9s 11ms/step - loss: 0.0376 - binary_accuracy: 0.9862 - val_loss: 0.0916 - val_binary_accuracy: 0.9705\n",
            "Epoch 25/100\n",
            "800/800 [==============================] - 9s 11ms/step - loss: 0.0386 - binary_accuracy: 0.9858 - val_loss: 0.0659 - val_binary_accuracy: 0.9791\n",
            "Epoch 26/100\n",
            "800/800 [==============================] - 10s 12ms/step - loss: 0.0342 - binary_accuracy: 0.9878 - val_loss: 0.0641 - val_binary_accuracy: 0.9784\n",
            "Epoch 27/100\n",
            "800/800 [==============================] - 9s 12ms/step - loss: 0.0309 - binary_accuracy: 0.9891 - val_loss: 0.0792 - val_binary_accuracy: 0.9739\n",
            "Epoch 28/100\n",
            "800/800 [==============================] - 9s 11ms/step - loss: 0.0331 - binary_accuracy: 0.9885 - val_loss: 0.0711 - val_binary_accuracy: 0.9747\n",
            "Epoch 29/100\n",
            "800/800 [==============================] - 9s 12ms/step - loss: 0.0322 - binary_accuracy: 0.9880 - val_loss: 0.0719 - val_binary_accuracy: 0.9775\n",
            "Epoch 30/100\n",
            "800/800 [==============================] - 10s 12ms/step - loss: 0.0295 - binary_accuracy: 0.9892 - val_loss: 0.0661 - val_binary_accuracy: 0.9786\n",
            "Epoch 31/100\n",
            "800/800 [==============================] - 10s 12ms/step - loss: 0.0275 - binary_accuracy: 0.9904 - val_loss: 0.0702 - val_binary_accuracy: 0.9770\n",
            "Epoch 32/100\n",
            "800/800 [==============================] - 9s 11ms/step - loss: 0.0263 - binary_accuracy: 0.9908 - val_loss: 0.0777 - val_binary_accuracy: 0.9772\n",
            "Epoch 33/100\n",
            "800/800 [==============================] - 9s 12ms/step - loss: 0.0246 - binary_accuracy: 0.9910 - val_loss: 0.0617 - val_binary_accuracy: 0.9795\n",
            "Epoch 34/100\n",
            "800/800 [==============================] - 9s 12ms/step - loss: 0.0254 - binary_accuracy: 0.9909 - val_loss: 0.0778 - val_binary_accuracy: 0.9745\n",
            "Epoch 35/100\n",
            "800/800 [==============================] - 9s 12ms/step - loss: 0.0244 - binary_accuracy: 0.9914 - val_loss: 0.0723 - val_binary_accuracy: 0.9783\n",
            "Epoch 36/100\n",
            "800/800 [==============================] - 10s 13ms/step - loss: 0.0207 - binary_accuracy: 0.9926 - val_loss: 0.0836 - val_binary_accuracy: 0.9748\n",
            "Epoch 37/100\n",
            "800/800 [==============================] - 9s 12ms/step - loss: 0.0206 - binary_accuracy: 0.9924 - val_loss: 0.0703 - val_binary_accuracy: 0.9795\n",
            "Epoch 38/100\n",
            "800/800 [==============================] - 10s 12ms/step - loss: 0.0198 - binary_accuracy: 0.9931 - val_loss: 0.0701 - val_binary_accuracy: 0.9808\n",
            "Epoch 39/100\n",
            "800/800 [==============================] - 10s 13ms/step - loss: 0.0182 - binary_accuracy: 0.9935 - val_loss: 0.0742 - val_binary_accuracy: 0.9794\n",
            "Epoch 40/100\n",
            "800/800 [==============================] - 10s 12ms/step - loss: 0.0167 - binary_accuracy: 0.9945 - val_loss: 0.0758 - val_binary_accuracy: 0.9795\n",
            "Epoch 41/100\n",
            "800/800 [==============================] - 10s 12ms/step - loss: 0.0204 - binary_accuracy: 0.9924 - val_loss: 0.0765 - val_binary_accuracy: 0.9794\n",
            "Epoch 42/100\n",
            "800/800 [==============================] - 10s 12ms/step - loss: 0.0155 - binary_accuracy: 0.9940 - val_loss: 0.0854 - val_binary_accuracy: 0.9770\n",
            "Epoch 43/100\n",
            "800/800 [==============================] - 10s 12ms/step - loss: 0.0190 - binary_accuracy: 0.9931 - val_loss: 0.0774 - val_binary_accuracy: 0.9781\n",
            "Epoch 44/100\n",
            "800/800 [==============================] - 10s 13ms/step - loss: 0.0135 - binary_accuracy: 0.9954 - val_loss: 0.0772 - val_binary_accuracy: 0.9803\n",
            "Epoch 45/100\n",
            "800/800 [==============================] - 9s 12ms/step - loss: 0.0149 - binary_accuracy: 0.9947 - val_loss: 0.0718 - val_binary_accuracy: 0.9827\n",
            "Epoch 46/100\n",
            "800/800 [==============================] - 9s 11ms/step - loss: 0.0167 - binary_accuracy: 0.9944 - val_loss: 0.0834 - val_binary_accuracy: 0.9803\n",
            "Epoch 47/100\n",
            "800/800 [==============================] - 9s 11ms/step - loss: 0.0133 - binary_accuracy: 0.9952 - val_loss: 0.0775 - val_binary_accuracy: 0.9820\n",
            "Epoch 48/100\n",
            "800/800 [==============================] - 9s 11ms/step - loss: 0.0104 - binary_accuracy: 0.9965 - val_loss: 0.1134 - val_binary_accuracy: 0.9686\n",
            "Epoch 49/100\n",
            "800/800 [==============================] - 10s 12ms/step - loss: 0.0146 - binary_accuracy: 0.9951 - val_loss: 0.0744 - val_binary_accuracy: 0.9823\n",
            "Epoch 50/100\n",
            "800/800 [==============================] - 10s 13ms/step - loss: 0.0110 - binary_accuracy: 0.9960 - val_loss: 0.0785 - val_binary_accuracy: 0.9823\n",
            "Epoch 51/100\n",
            "800/800 [==============================] - 10s 13ms/step - loss: 0.0114 - binary_accuracy: 0.9957 - val_loss: 0.0913 - val_binary_accuracy: 0.9794\n",
            "Epoch 52/100\n",
            "800/800 [==============================] - 10s 13ms/step - loss: 0.0122 - binary_accuracy: 0.9955 - val_loss: 0.1059 - val_binary_accuracy: 0.9769\n",
            "Epoch 53/100\n",
            "800/800 [==============================] - 10s 13ms/step - loss: 0.0086 - binary_accuracy: 0.9969 - val_loss: 0.0844 - val_binary_accuracy: 0.9812\n",
            "Epoch 54/100\n",
            "800/800 [==============================] - 10s 12ms/step - loss: 0.0087 - binary_accuracy: 0.9972 - val_loss: 0.0933 - val_binary_accuracy: 0.9789\n",
            "Epoch 55/100\n",
            "800/800 [==============================] - 9s 12ms/step - loss: 0.0113 - binary_accuracy: 0.9960 - val_loss: 0.0947 - val_binary_accuracy: 0.9795\n",
            "Epoch 56/100\n",
            "800/800 [==============================] - 10s 12ms/step - loss: 0.0133 - binary_accuracy: 0.9955 - val_loss: 0.0947 - val_binary_accuracy: 0.9781\n",
            "Epoch 57/100\n",
            "800/800 [==============================] - 11s 14ms/step - loss: 0.0092 - binary_accuracy: 0.9968 - val_loss: 0.1026 - val_binary_accuracy: 0.9773\n",
            "Epoch 58/100\n",
            "800/800 [==============================] - 10s 13ms/step - loss: 0.0077 - binary_accuracy: 0.9974 - val_loss: 0.1188 - val_binary_accuracy: 0.9769\n",
            "Epoch 59/100\n",
            "800/800 [==============================] - 10s 13ms/step - loss: 0.0107 - binary_accuracy: 0.9961 - val_loss: 0.1106 - val_binary_accuracy: 0.9758\n",
            "Epoch 60/100\n",
            "800/800 [==============================] - 10s 13ms/step - loss: 0.0088 - binary_accuracy: 0.9971 - val_loss: 0.0947 - val_binary_accuracy: 0.9808\n",
            "Epoch 61/100\n",
            "800/800 [==============================] - 10s 12ms/step - loss: 0.0078 - binary_accuracy: 0.9973 - val_loss: 0.1083 - val_binary_accuracy: 0.9786\n",
            "Epoch 62/100\n",
            "800/800 [==============================] - 9s 11ms/step - loss: 0.0072 - binary_accuracy: 0.9976 - val_loss: 0.0945 - val_binary_accuracy: 0.9795\n",
            "Epoch 63/100\n",
            "800/800 [==============================] - 9s 11ms/step - loss: 0.0103 - binary_accuracy: 0.9959 - val_loss: 0.1182 - val_binary_accuracy: 0.9778\n",
            "Epoch 64/100\n",
            "800/800 [==============================] - 9s 12ms/step - loss: 0.0058 - binary_accuracy: 0.9980 - val_loss: 0.0951 - val_binary_accuracy: 0.9822\n",
            "Epoch 65/100\n",
            "800/800 [==============================] - 10s 12ms/step - loss: 0.0080 - binary_accuracy: 0.9972 - val_loss: 0.1139 - val_binary_accuracy: 0.9780\n",
            "Epoch 66/100\n",
            "800/800 [==============================] - 10s 12ms/step - loss: 0.0081 - binary_accuracy: 0.9973 - val_loss: 0.1066 - val_binary_accuracy: 0.9805\n",
            "Epoch 67/100\n",
            "800/800 [==============================] - 10s 12ms/step - loss: 0.0066 - binary_accuracy: 0.9978 - val_loss: 0.0993 - val_binary_accuracy: 0.9816\n",
            "Epoch 68/100\n",
            "800/800 [==============================] - 10s 13ms/step - loss: 0.0052 - binary_accuracy: 0.9982 - val_loss: 0.1033 - val_binary_accuracy: 0.9805\n",
            "Epoch 69/100\n",
            "800/800 [==============================] - 10s 13ms/step - loss: 0.0077 - binary_accuracy: 0.9973 - val_loss: 0.1189 - val_binary_accuracy: 0.9789\n",
            "Epoch 70/100\n",
            "800/800 [==============================] - 10s 13ms/step - loss: 0.0078 - binary_accuracy: 0.9974 - val_loss: 0.1028 - val_binary_accuracy: 0.9822\n",
            "Epoch 71/100\n",
            "800/800 [==============================] - 9s 11ms/step - loss: 0.0079 - binary_accuracy: 0.9973 - val_loss: 0.1146 - val_binary_accuracy: 0.9798\n",
            "Epoch 72/100\n",
            "800/800 [==============================] - 10s 12ms/step - loss: 0.0081 - binary_accuracy: 0.9970 - val_loss: 0.1052 - val_binary_accuracy: 0.9791\n",
            "Epoch 73/100\n",
            "800/800 [==============================] - 10s 12ms/step - loss: 0.0074 - binary_accuracy: 0.9973 - val_loss: 0.1240 - val_binary_accuracy: 0.9780\n",
            "Epoch 74/100\n",
            "800/800 [==============================] - 10s 12ms/step - loss: 0.0073 - binary_accuracy: 0.9979 - val_loss: 0.1122 - val_binary_accuracy: 0.9806\n",
            "Epoch 75/100\n",
            "800/800 [==============================] - 10s 12ms/step - loss: 0.0079 - binary_accuracy: 0.9971 - val_loss: 0.1173 - val_binary_accuracy: 0.9789\n",
            "Epoch 76/100\n",
            "800/800 [==============================] - 9s 11ms/step - loss: 0.0024 - binary_accuracy: 0.9995 - val_loss: 0.1156 - val_binary_accuracy: 0.9778\n",
            "Epoch 77/100\n",
            "800/800 [==============================] - 10s 12ms/step - loss: 0.0125 - binary_accuracy: 0.9959 - val_loss: 0.1125 - val_binary_accuracy: 0.9812\n",
            "Epoch 78/100\n",
            "800/800 [==============================] - 9s 11ms/step - loss: 0.0021 - binary_accuracy: 0.9996 - val_loss: 0.1035 - val_binary_accuracy: 0.9830\n",
            "Epoch 79/100\n",
            "800/800 [==============================] - 9s 12ms/step - loss: 0.0024 - binary_accuracy: 0.9994 - val_loss: 0.1086 - val_binary_accuracy: 0.9802\n",
            "Epoch 80/100\n",
            "800/800 [==============================] - 9s 11ms/step - loss: 0.0136 - binary_accuracy: 0.9952 - val_loss: 0.1151 - val_binary_accuracy: 0.9803\n",
            "Epoch 81/100\n",
            "800/800 [==============================] - 9s 12ms/step - loss: 0.0053 - binary_accuracy: 0.9980 - val_loss: 0.1155 - val_binary_accuracy: 0.9811\n",
            "Epoch 82/100\n",
            "800/800 [==============================] - 10s 12ms/step - loss: 0.0046 - binary_accuracy: 0.9987 - val_loss: 0.1383 - val_binary_accuracy: 0.9723\n",
            "Epoch 83/100\n",
            "800/800 [==============================] - 9s 11ms/step - loss: 0.0068 - binary_accuracy: 0.9975 - val_loss: 0.1110 - val_binary_accuracy: 0.9802\n",
            "Epoch 84/100\n",
            "800/800 [==============================] - 10s 12ms/step - loss: 0.0033 - binary_accuracy: 0.9989 - val_loss: 0.1150 - val_binary_accuracy: 0.9814\n",
            "Epoch 85/100\n",
            "800/800 [==============================] - 9s 11ms/step - loss: 0.0090 - binary_accuracy: 0.9970 - val_loss: 0.1140 - val_binary_accuracy: 0.9800\n",
            "Epoch 86/100\n",
            "800/800 [==============================] - 9s 11ms/step - loss: 0.0093 - binary_accuracy: 0.9969 - val_loss: 0.1278 - val_binary_accuracy: 0.9800\n",
            "Epoch 87/100\n",
            "800/800 [==============================] - 10s 12ms/step - loss: 0.0045 - binary_accuracy: 0.9986 - val_loss: 0.1123 - val_binary_accuracy: 0.9811\n",
            "Epoch 88/100\n",
            "800/800 [==============================] - 10s 12ms/step - loss: 0.0015 - binary_accuracy: 0.9997 - val_loss: 0.1262 - val_binary_accuracy: 0.9772\n",
            "Epoch 89/100\n",
            "800/800 [==============================] - 9s 12ms/step - loss: 0.0065 - binary_accuracy: 0.9973 - val_loss: 0.1541 - val_binary_accuracy: 0.9775\n",
            "Epoch 90/100\n",
            "800/800 [==============================] - 10s 12ms/step - loss: 0.0074 - binary_accuracy: 0.9975 - val_loss: 0.1495 - val_binary_accuracy: 0.9753\n",
            "Epoch 91/100\n",
            "800/800 [==============================] - 9s 12ms/step - loss: 0.0064 - binary_accuracy: 0.9981 - val_loss: 0.1178 - val_binary_accuracy: 0.9806\n",
            "Epoch 92/100\n",
            "800/800 [==============================] - 10s 12ms/step - loss: 0.0014 - binary_accuracy: 0.9999 - val_loss: 0.1140 - val_binary_accuracy: 0.9822\n",
            "Epoch 93/100\n",
            "800/800 [==============================] - 9s 11ms/step - loss: 0.0077 - binary_accuracy: 0.9971 - val_loss: 0.1285 - val_binary_accuracy: 0.9781\n",
            "Epoch 94/100\n",
            "800/800 [==============================] - 9s 12ms/step - loss: 0.0075 - binary_accuracy: 0.9973 - val_loss: 0.1224 - val_binary_accuracy: 0.9816\n",
            "Epoch 95/100\n",
            "800/800 [==============================] - 9s 12ms/step - loss: 0.0028 - binary_accuracy: 0.9990 - val_loss: 0.1359 - val_binary_accuracy: 0.9778\n",
            "Epoch 96/100\n",
            "800/800 [==============================] - 9s 12ms/step - loss: 0.0093 - binary_accuracy: 0.9967 - val_loss: 0.1174 - val_binary_accuracy: 0.9795\n",
            "Epoch 97/100\n",
            "800/800 [==============================] - 9s 12ms/step - loss: 0.0025 - binary_accuracy: 0.9993 - val_loss: 0.1212 - val_binary_accuracy: 0.9806\n",
            "Epoch 98/100\n",
            "800/800 [==============================] - 9s 11ms/step - loss: 0.0024 - binary_accuracy: 0.9992 - val_loss: 0.1179 - val_binary_accuracy: 0.9817\n",
            "Epoch 99/100\n",
            "800/800 [==============================] - 9s 12ms/step - loss: 0.0035 - binary_accuracy: 0.9987 - val_loss: 0.1386 - val_binary_accuracy: 0.9798\n",
            "Epoch 100/100\n",
            "800/800 [==============================] - 9s 12ms/step - loss: 0.0075 - binary_accuracy: 0.9973 - val_loss: 0.1403 - val_binary_accuracy: 0.9762\n"
          ],
          "name": "stdout"
        }
      ]
    },
    {
      "cell_type": "code",
      "metadata": {
        "colab": {
          "base_uri": "https://localhost:8080/"
        },
        "id": "UI_rZ-ZNaam5",
        "outputId": "b95b0caa-16a0-47a3-e8a0-88baa17a9d10"
      },
      "source": [
        "y_pred"
      ],
      "execution_count": null,
      "outputs": [
        {
          "output_type": "execute_result",
          "data": {
            "text/plain": [
              "array([[2.5169268e-11],\n",
              "       [2.1486982e-11],\n",
              "       [1.0000000e+00],\n",
              "       ...,\n",
              "       [2.9474485e-12],\n",
              "       [7.8835044e-17],\n",
              "       [9.6548045e-01]], dtype=float32)"
            ]
          },
          "metadata": {
            "tags": []
          },
          "execution_count": 13
        }
      ]
    },
    {
      "cell_type": "code",
      "metadata": {
        "colab": {
          "base_uri": "https://localhost:8080/"
        },
        "id": "T5hskomEV8qk",
        "outputId": "d5b944f2-ec8a-4fb1-ae6f-e945bad2b916"
      },
      "source": [
        "y_pred = np.round(cnn_model.predict(X_test_planes))\n",
        "accuracy = accuracy_score(y_test_planes, y_pred)\n",
        "precision = precision_score(y_test_planes, y_pred)\n",
        "recall = recall_score(y_test_planes, y_pred)\n",
        "f1 = f1_score(y_test_planes, y_pred)\n",
        "\n",
        "accuracy, precision, recall, f1"
      ],
      "execution_count": null,
      "outputs": [
        {
          "output_type": "execute_result",
          "data": {
            "text/plain": [
              "(0.97625, 0.9393939393939394, 0.9693439607602697, 0.9541339770669884)"
            ]
          },
          "metadata": {
            "tags": []
          },
          "execution_count": 15
        }
      ]
    },
    {
      "cell_type": "code",
      "metadata": {
        "id": "Ui5iuW3qupZE"
      },
      "source": [
        "# %tensorboard --logdir logs/fit"
      ],
      "execution_count": null,
      "outputs": []
    },
    {
      "cell_type": "markdown",
      "metadata": {
        "id": "5vCfDrbNaH5X"
      },
      "source": [
        "## ii.\n",
        "Possible improvements:\n",
        "- Early stopping\n",
        "- Regularisation\n",
        "- Increase network capacity - addtional convolutional and max pooling layer."
      ]
    },
    {
      "cell_type": "markdown",
      "metadata": {
        "id": "o5Oo_Urm4Yk4"
      },
      "source": [
        "Early stopping:"
      ]
    },
    {
      "cell_type": "code",
      "metadata": {
        "colab": {
          "base_uri": "https://localhost:8080/"
        },
        "id": "N6c8ktXA4XEv",
        "outputId": "09b91c27-3a46-467f-d4f4-e09db7f589a3"
      },
      "source": [
        "cnn_model_2 = keras.Sequential([layers.InputLayer(input_shape=(20, 20, 3)),\n",
        "                                layers.Conv2D(32, (3, 3), activation=\"relu\"),\n",
        "                                layers.MaxPooling2D((2, 2)),\n",
        "                                layers.Flatten(),\n",
        "                                layers.Dense(32, activation=\"relu\"), \n",
        "                                layers.Dense(1, activation=\"sigmoid\")])\n",
        "cnn_model_2.compile(optimizer=\"adam\", \n",
        "                    loss=\"binary_crossentropy\", \n",
        "                    metrics=[\"binary_accuracy\"])\n",
        "log_dir = \"logs/fit/\" + datetime.datetime.now().strftime(\"%Y%m%d-%H%M%S\")\n",
        "tensorboard_callback = tf.keras.callbacks.TensorBoard(log_dir=log_dir, \n",
        "                                                      histogram_freq=1)\n",
        "early_stopping = EarlyStopping(min_delta=0.001, \n",
        "                               patience=15, \n",
        "                               restore_best_weights=True)\n",
        "history_cnn_2 = cnn_model_2.fit(X_train_planes, y_train_planes, \n",
        "                                validation_data=(X_test_planes, y_test_planes), \n",
        "                                batch_size=32, \n",
        "                                epochs=100,\n",
        "                                callbacks=[tensorboard_callback, early_stopping])"
      ],
      "execution_count": null,
      "outputs": [
        {
          "output_type": "stream",
          "text": [
            "Epoch 1/100\n",
            "800/800 [==============================] - 10s 12ms/step - loss: 0.2969 - binary_accuracy: 0.8716 - val_loss: 0.1932 - val_binary_accuracy: 0.9228\n",
            "Epoch 2/100\n",
            "800/800 [==============================] - 10s 12ms/step - loss: 0.1614 - binary_accuracy: 0.9379 - val_loss: 0.1440 - val_binary_accuracy: 0.9448\n",
            "Epoch 3/100\n",
            "800/800 [==============================] - 9s 11ms/step - loss: 0.1361 - binary_accuracy: 0.9466 - val_loss: 0.1305 - val_binary_accuracy: 0.9528\n",
            "Epoch 4/100\n",
            "800/800 [==============================] - 9s 11ms/step - loss: 0.1213 - binary_accuracy: 0.9555 - val_loss: 0.1426 - val_binary_accuracy: 0.9417\n",
            "Epoch 5/100\n",
            "800/800 [==============================] - 9s 12ms/step - loss: 0.1088 - binary_accuracy: 0.9591 - val_loss: 0.1409 - val_binary_accuracy: 0.9416\n",
            "Epoch 6/100\n",
            "800/800 [==============================] - 10s 12ms/step - loss: 0.1021 - binary_accuracy: 0.9620 - val_loss: 0.1322 - val_binary_accuracy: 0.9481\n",
            "Epoch 7/100\n",
            "800/800 [==============================] - 9s 11ms/step - loss: 0.0955 - binary_accuracy: 0.9648 - val_loss: 0.1145 - val_binary_accuracy: 0.9558\n",
            "Epoch 8/100\n",
            "800/800 [==============================] - 9s 11ms/step - loss: 0.0856 - binary_accuracy: 0.9691 - val_loss: 0.0946 - val_binary_accuracy: 0.9655\n",
            "Epoch 9/100\n",
            "800/800 [==============================] - 9s 11ms/step - loss: 0.0792 - binary_accuracy: 0.9709 - val_loss: 0.0868 - val_binary_accuracy: 0.9689\n",
            "Epoch 10/100\n",
            "800/800 [==============================] - 9s 11ms/step - loss: 0.0715 - binary_accuracy: 0.9739 - val_loss: 0.0843 - val_binary_accuracy: 0.9700\n",
            "Epoch 11/100\n",
            "800/800 [==============================] - 9s 11ms/step - loss: 0.0665 - binary_accuracy: 0.9754 - val_loss: 0.0863 - val_binary_accuracy: 0.9655\n",
            "Epoch 12/100\n",
            "800/800 [==============================] - 9s 11ms/step - loss: 0.0633 - binary_accuracy: 0.9769 - val_loss: 0.0752 - val_binary_accuracy: 0.9733\n",
            "Epoch 13/100\n",
            "800/800 [==============================] - 9s 11ms/step - loss: 0.0580 - binary_accuracy: 0.9786 - val_loss: 0.0738 - val_binary_accuracy: 0.9737\n",
            "Epoch 14/100\n",
            "800/800 [==============================] - 9s 11ms/step - loss: 0.0570 - binary_accuracy: 0.9783 - val_loss: 0.0777 - val_binary_accuracy: 0.9706\n",
            "Epoch 15/100\n",
            "800/800 [==============================] - 9s 12ms/step - loss: 0.0536 - binary_accuracy: 0.9802 - val_loss: 0.0690 - val_binary_accuracy: 0.9753\n",
            "Epoch 16/100\n",
            "800/800 [==============================] - 9s 11ms/step - loss: 0.0484 - binary_accuracy: 0.9826 - val_loss: 0.0760 - val_binary_accuracy: 0.9714\n",
            "Epoch 17/100\n",
            "800/800 [==============================] - 9s 11ms/step - loss: 0.0459 - binary_accuracy: 0.9839 - val_loss: 0.0693 - val_binary_accuracy: 0.9762\n",
            "Epoch 18/100\n",
            "800/800 [==============================] - 9s 11ms/step - loss: 0.0426 - binary_accuracy: 0.9841 - val_loss: 0.0763 - val_binary_accuracy: 0.9741\n",
            "Epoch 19/100\n",
            "800/800 [==============================] - 9s 11ms/step - loss: 0.0419 - binary_accuracy: 0.9852 - val_loss: 0.0630 - val_binary_accuracy: 0.9777\n",
            "Epoch 20/100\n",
            "800/800 [==============================] - 9s 11ms/step - loss: 0.0393 - binary_accuracy: 0.9870 - val_loss: 0.0712 - val_binary_accuracy: 0.9739\n",
            "Epoch 21/100\n",
            "800/800 [==============================] - 9s 11ms/step - loss: 0.0383 - binary_accuracy: 0.9869 - val_loss: 0.0608 - val_binary_accuracy: 0.9792\n",
            "Epoch 22/100\n",
            "800/800 [==============================] - 9s 11ms/step - loss: 0.0351 - binary_accuracy: 0.9872 - val_loss: 0.0780 - val_binary_accuracy: 0.9705\n",
            "Epoch 23/100\n",
            "800/800 [==============================] - 9s 11ms/step - loss: 0.0353 - binary_accuracy: 0.9871 - val_loss: 0.0829 - val_binary_accuracy: 0.9705\n",
            "Epoch 24/100\n",
            "800/800 [==============================] - 9s 11ms/step - loss: 0.0329 - binary_accuracy: 0.9885 - val_loss: 0.0617 - val_binary_accuracy: 0.9773\n",
            "Epoch 25/100\n",
            "800/800 [==============================] - 9s 11ms/step - loss: 0.0295 - binary_accuracy: 0.9894 - val_loss: 0.1006 - val_binary_accuracy: 0.9656\n",
            "Epoch 26/100\n",
            "800/800 [==============================] - 9s 11ms/step - loss: 0.0297 - binary_accuracy: 0.9895 - val_loss: 0.0734 - val_binary_accuracy: 0.9737\n",
            "Epoch 27/100\n",
            "800/800 [==============================] - 9s 11ms/step - loss: 0.0292 - binary_accuracy: 0.9900 - val_loss: 0.0678 - val_binary_accuracy: 0.9773\n",
            "Epoch 28/100\n",
            "800/800 [==============================] - 9s 11ms/step - loss: 0.0261 - binary_accuracy: 0.9907 - val_loss: 0.0759 - val_binary_accuracy: 0.9758\n",
            "Epoch 29/100\n",
            "800/800 [==============================] - 9s 11ms/step - loss: 0.0263 - binary_accuracy: 0.9904 - val_loss: 0.0815 - val_binary_accuracy: 0.9752\n",
            "Epoch 30/100\n",
            "800/800 [==============================] - 9s 11ms/step - loss: 0.0246 - binary_accuracy: 0.9916 - val_loss: 0.0694 - val_binary_accuracy: 0.9764\n",
            "Epoch 31/100\n",
            "800/800 [==============================] - 9s 12ms/step - loss: 0.0219 - binary_accuracy: 0.9920 - val_loss: 0.0736 - val_binary_accuracy: 0.9773\n",
            "Epoch 32/100\n",
            "800/800 [==============================] - 9s 11ms/step - loss: 0.0210 - binary_accuracy: 0.9923 - val_loss: 0.0766 - val_binary_accuracy: 0.9747\n",
            "Epoch 33/100\n",
            "800/800 [==============================] - 9s 11ms/step - loss: 0.0220 - binary_accuracy: 0.9920 - val_loss: 0.0803 - val_binary_accuracy: 0.9759\n",
            "Epoch 34/100\n",
            "800/800 [==============================] - 9s 11ms/step - loss: 0.0206 - binary_accuracy: 0.9929 - val_loss: 0.0917 - val_binary_accuracy: 0.9681\n",
            "Epoch 35/100\n",
            "800/800 [==============================] - 10s 12ms/step - loss: 0.0183 - binary_accuracy: 0.9929 - val_loss: 0.0998 - val_binary_accuracy: 0.9689\n",
            "Epoch 36/100\n",
            "800/800 [==============================] - 9s 11ms/step - loss: 0.0198 - binary_accuracy: 0.9930 - val_loss: 0.0730 - val_binary_accuracy: 0.9791\n"
          ],
          "name": "stdout"
        }
      ]
    },
    {
      "cell_type": "code",
      "metadata": {
        "colab": {
          "base_uri": "https://localhost:8080/"
        },
        "id": "LCvKUNDSXj9y",
        "outputId": "a573befb-c3dc-47cb-8113-b6d0fc1937f5"
      },
      "source": [
        "y_pred =  np.round(cnn_model_2.predict(X_test_planes))\n",
        "accuracy = accuracy_score(y_test_planes, y_pred)\n",
        "precision = precision_score(y_test_planes, y_pred)\n",
        "recall = recall_score(y_test_planes, y_pred)\n",
        "f1 = f1_score(y_test_planes, y_pred)\n",
        "\n",
        "accuracy, precision, recall, f1"
      ],
      "execution_count": null,
      "outputs": [
        {
          "output_type": "execute_result",
          "data": {
            "text/plain": [
              "(0.97921875, 0.9646401985111662, 0.9534028203556101, 0.9589885908109774)"
            ]
          },
          "metadata": {
            "tags": []
          },
          "execution_count": 17
        }
      ]
    },
    {
      "cell_type": "markdown",
      "metadata": {
        "id": "v-FPiWgj4jHk"
      },
      "source": [
        "Regularisation:"
      ]
    },
    {
      "cell_type": "code",
      "metadata": {
        "colab": {
          "base_uri": "https://localhost:8080/"
        },
        "id": "nFqiUvXQXmD-",
        "outputId": "dd609b1b-afd5-4a34-cb0c-f9508ede077d"
      },
      "source": [
        "cnn_model_3 = keras.Sequential([layers.InputLayer(input_shape=(20, 20, 3)),\n",
        "                                layers.Conv2D(32, (3, 3), activation=\"relu\"),\n",
        "                                layers.MaxPooling2D((2, 2)),\n",
        "                                layers.Flatten(),\n",
        "                                layers.Dense(32, \n",
        "                                             activity_regularizer=l1(10e-5), \n",
        "                                             activation=\"relu\"), \n",
        "                                layers.Dense(1, activation=\"sigmoid\")])\n",
        "cnn_model_3.compile(optimizer=\"adam\", \n",
        "                    loss=\"binary_crossentropy\", \n",
        "                    metrics=[\"binary_accuracy\"])\n",
        "log_dir = \"logs/fit/\" + datetime.datetime.now().strftime(\"%Y%m%d-%H%M%S\")\n",
        "tensorboard_callback = tf.keras.callbacks.TensorBoard(log_dir=log_dir, \n",
        "                                                      histogram_freq=1)\n",
        "history_cnn_3 = cnn_model_3.fit(X_train_planes, y_train_planes, \n",
        "                                validation_data=(X_test_planes, y_test_planes), \n",
        "                                batch_size=32, \n",
        "                                epochs=100,\n",
        "                                callbacks=[tensorboard_callback, early_stopping])"
      ],
      "execution_count": null,
      "outputs": [
        {
          "output_type": "stream",
          "text": [
            "Epoch 1/100\n",
            "800/800 [==============================] - 9s 11ms/step - loss: 0.3151 - binary_accuracy: 0.8662 - val_loss: 0.1832 - val_binary_accuracy: 0.9312\n",
            "Epoch 2/100\n",
            "800/800 [==============================] - 9s 11ms/step - loss: 0.1666 - binary_accuracy: 0.9362 - val_loss: 0.2076 - val_binary_accuracy: 0.9145\n",
            "Epoch 3/100\n",
            "800/800 [==============================] - 8s 11ms/step - loss: 0.1469 - binary_accuracy: 0.9450 - val_loss: 0.1336 - val_binary_accuracy: 0.9502\n",
            "Epoch 4/100\n",
            "800/800 [==============================] - 8s 10ms/step - loss: 0.1318 - binary_accuracy: 0.9498 - val_loss: 0.1234 - val_binary_accuracy: 0.9541\n",
            "Epoch 5/100\n",
            "800/800 [==============================] - 9s 11ms/step - loss: 0.1224 - binary_accuracy: 0.9550 - val_loss: 0.1168 - val_binary_accuracy: 0.9544\n",
            "Epoch 6/100\n",
            "800/800 [==============================] - 8s 11ms/step - loss: 0.1120 - binary_accuracy: 0.9590 - val_loss: 0.1316 - val_binary_accuracy: 0.9502\n",
            "Epoch 7/100\n",
            "800/800 [==============================] - 9s 11ms/step - loss: 0.0987 - binary_accuracy: 0.9645 - val_loss: 0.1101 - val_binary_accuracy: 0.9575\n",
            "Epoch 8/100\n",
            "800/800 [==============================] - 9s 11ms/step - loss: 0.0949 - binary_accuracy: 0.9654 - val_loss: 0.1377 - val_binary_accuracy: 0.9436\n",
            "Epoch 9/100\n",
            "800/800 [==============================] - 8s 11ms/step - loss: 0.0875 - binary_accuracy: 0.9688 - val_loss: 0.0934 - val_binary_accuracy: 0.9652\n",
            "Epoch 10/100\n",
            "800/800 [==============================] - 9s 11ms/step - loss: 0.0822 - binary_accuracy: 0.9695 - val_loss: 0.0939 - val_binary_accuracy: 0.9666\n",
            "Epoch 11/100\n",
            "800/800 [==============================] - 9s 11ms/step - loss: 0.0775 - binary_accuracy: 0.9719 - val_loss: 0.0901 - val_binary_accuracy: 0.9677\n",
            "Epoch 12/100\n",
            "800/800 [==============================] - 8s 10ms/step - loss: 0.0712 - binary_accuracy: 0.9746 - val_loss: 0.0763 - val_binary_accuracy: 0.9731\n",
            "Epoch 13/100\n",
            "800/800 [==============================] - 8s 10ms/step - loss: 0.0659 - binary_accuracy: 0.9777 - val_loss: 0.0806 - val_binary_accuracy: 0.9686\n",
            "Epoch 14/100\n",
            "800/800 [==============================] - 8s 10ms/step - loss: 0.0649 - binary_accuracy: 0.9772 - val_loss: 0.0739 - val_binary_accuracy: 0.9748\n",
            "Epoch 15/100\n",
            "800/800 [==============================] - 8s 11ms/step - loss: 0.0619 - binary_accuracy: 0.9786 - val_loss: 0.0872 - val_binary_accuracy: 0.9655\n",
            "Epoch 16/100\n",
            "800/800 [==============================] - 8s 11ms/step - loss: 0.0588 - binary_accuracy: 0.9796 - val_loss: 0.0748 - val_binary_accuracy: 0.9747\n",
            "Epoch 17/100\n",
            "800/800 [==============================] - 9s 11ms/step - loss: 0.0540 - binary_accuracy: 0.9811 - val_loss: 0.0778 - val_binary_accuracy: 0.9709\n",
            "Epoch 18/100\n",
            "800/800 [==============================] - 9s 12ms/step - loss: 0.0536 - binary_accuracy: 0.9814 - val_loss: 0.0744 - val_binary_accuracy: 0.9742\n",
            "Epoch 19/100\n",
            "800/800 [==============================] - 9s 11ms/step - loss: 0.0515 - binary_accuracy: 0.9823 - val_loss: 0.0804 - val_binary_accuracy: 0.9741\n",
            "Epoch 20/100\n",
            "800/800 [==============================] - 9s 11ms/step - loss: 0.0476 - binary_accuracy: 0.9841 - val_loss: 0.0764 - val_binary_accuracy: 0.9723\n",
            "Epoch 21/100\n",
            "800/800 [==============================] - 9s 11ms/step - loss: 0.0450 - binary_accuracy: 0.9849 - val_loss: 0.0651 - val_binary_accuracy: 0.9794\n",
            "Epoch 22/100\n",
            "800/800 [==============================] - 9s 12ms/step - loss: 0.0446 - binary_accuracy: 0.9843 - val_loss: 0.0705 - val_binary_accuracy: 0.9748\n",
            "Epoch 23/100\n",
            "800/800 [==============================] - 10s 12ms/step - loss: 0.0426 - binary_accuracy: 0.9852 - val_loss: 0.0662 - val_binary_accuracy: 0.9792\n",
            "Epoch 24/100\n",
            "800/800 [==============================] - 9s 11ms/step - loss: 0.0393 - binary_accuracy: 0.9874 - val_loss: 0.0624 - val_binary_accuracy: 0.9794\n",
            "Epoch 25/100\n",
            "800/800 [==============================] - 9s 11ms/step - loss: 0.0389 - binary_accuracy: 0.9867 - val_loss: 0.0676 - val_binary_accuracy: 0.9778\n",
            "Epoch 26/100\n",
            "800/800 [==============================] - 9s 11ms/step - loss: 0.0352 - binary_accuracy: 0.9882 - val_loss: 0.0726 - val_binary_accuracy: 0.9734\n",
            "Epoch 27/100\n",
            "800/800 [==============================] - 9s 11ms/step - loss: 0.0351 - binary_accuracy: 0.9879 - val_loss: 0.0704 - val_binary_accuracy: 0.9761\n",
            "Epoch 28/100\n",
            "800/800 [==============================] - 9s 11ms/step - loss: 0.0328 - binary_accuracy: 0.9894 - val_loss: 0.0657 - val_binary_accuracy: 0.9777\n",
            "Epoch 29/100\n",
            "800/800 [==============================] - 9s 11ms/step - loss: 0.0329 - binary_accuracy: 0.9882 - val_loss: 0.0702 - val_binary_accuracy: 0.9775\n",
            "Epoch 30/100\n",
            "800/800 [==============================] - 9s 12ms/step - loss: 0.0295 - binary_accuracy: 0.9905 - val_loss: 0.0632 - val_binary_accuracy: 0.9789\n",
            "Epoch 31/100\n",
            "800/800 [==============================] - 9s 11ms/step - loss: 0.0287 - binary_accuracy: 0.9903 - val_loss: 0.0725 - val_binary_accuracy: 0.9775\n",
            "Epoch 32/100\n",
            "800/800 [==============================] - 9s 11ms/step - loss: 0.0277 - binary_accuracy: 0.9911 - val_loss: 0.0691 - val_binary_accuracy: 0.9800\n",
            "Epoch 33/100\n",
            "800/800 [==============================] - 9s 11ms/step - loss: 0.0262 - binary_accuracy: 0.9912 - val_loss: 0.0636 - val_binary_accuracy: 0.9802\n",
            "Epoch 34/100\n",
            "800/800 [==============================] - 9s 11ms/step - loss: 0.0242 - binary_accuracy: 0.9923 - val_loss: 0.0776 - val_binary_accuracy: 0.9752\n",
            "Epoch 35/100\n",
            "800/800 [==============================] - 9s 11ms/step - loss: 0.0223 - binary_accuracy: 0.9936 - val_loss: 0.0660 - val_binary_accuracy: 0.9794\n",
            "Epoch 36/100\n",
            "800/800 [==============================] - 9s 11ms/step - loss: 0.0216 - binary_accuracy: 0.9926 - val_loss: 0.0734 - val_binary_accuracy: 0.9773\n",
            "Epoch 37/100\n",
            "800/800 [==============================] - 9s 12ms/step - loss: 0.0254 - binary_accuracy: 0.9914 - val_loss: 0.0672 - val_binary_accuracy: 0.9806\n",
            "Epoch 38/100\n",
            "800/800 [==============================] - 9s 11ms/step - loss: 0.0197 - binary_accuracy: 0.9936 - val_loss: 0.0678 - val_binary_accuracy: 0.9814\n",
            "Epoch 39/100\n",
            "800/800 [==============================] - 9s 11ms/step - loss: 0.0192 - binary_accuracy: 0.9943 - val_loss: 0.0666 - val_binary_accuracy: 0.9784\n"
          ],
          "name": "stdout"
        }
      ]
    },
    {
      "cell_type": "code",
      "metadata": {
        "colab": {
          "base_uri": "https://localhost:8080/"
        },
        "id": "dM-_Wnyu4pWB",
        "outputId": "936d7ec4-2f42-402e-8713-1324d420a74d"
      },
      "source": [
        "y_pred = np.round(cnn_model_3.predict(X_test_planes))\n",
        "accuracy = accuracy_score(y_test_planes, y_pred)\n",
        "precision = precision_score(y_test_planes, y_pred)\n",
        "recall = recall_score(y_test_planes, y_pred)\n",
        "f1 = f1_score(y_test_planes, y_pred)\n",
        "\n",
        "accuracy, precision, recall, f1"
      ],
      "execution_count": null,
      "outputs": [
        {
          "output_type": "execute_result",
          "data": {
            "text/plain": [
              "(0.979375, 0.9545178896300789, 0.9650521152667075, 0.9597560975609757)"
            ]
          },
          "metadata": {
            "tags": []
          },
          "execution_count": 24
        }
      ]
    },
    {
      "cell_type": "markdown",
      "metadata": {
        "id": "QTkx6qgO4jBa"
      },
      "source": [
        "Increase capacity:"
      ]
    },
    {
      "cell_type": "code",
      "metadata": {
        "colab": {
          "base_uri": "https://localhost:8080/"
        },
        "id": "DRlWbG2-XlrP",
        "outputId": "356c2ee2-578d-4124-b7f5-6ac8911465d0"
      },
      "source": [
        "cnn_model_4 = keras.Sequential([layers.InputLayer(input_shape=(20, 20, 3)),\n",
        "                                layers.Conv2D(32, (3, 3), activation=\"relu\"),\n",
        "                                layers.MaxPooling2D((2, 2)),\n",
        "                                layers.Conv2D(32, (3, 3), activation=\"relu\"),\n",
        "                                layers.MaxPooling2D((2, 2)),\n",
        "                                layers.Flatten(),\n",
        "                                layers.Dense(32, activation=\"relu\"), \n",
        "                                layers.Dense(32, activation=\"relu\"), \n",
        "                                layers.Dense(1, activation=\"sigmoid\")])\n",
        "cnn_model_4.compile(optimizer=\"adam\", \n",
        "                    loss=\"binary_crossentropy\", \n",
        "                    metrics=[\"binary_accuracy\"])\n",
        "log_dir = \"logs/fit/\" + datetime.datetime.now().strftime(\"%Y%m%d-%H%M%S\")\n",
        "tensorboard_callback = tf.keras.callbacks.TensorBoard(log_dir=log_dir, \n",
        "                                                      histogram_freq=1)\n",
        "history_cnn_4 = cnn_model_4.fit(X_train_planes, y_train_planes, \n",
        "                                validation_data=(X_test_planes, y_test_planes), \n",
        "                                batch_size=32, \n",
        "                                epochs=100,\n",
        "                                callbacks=[tensorboard_callback, early_stopping])"
      ],
      "execution_count": null,
      "outputs": [
        {
          "output_type": "stream",
          "text": [
            "Epoch 1/100\n",
            "800/800 [==============================] - 13s 16ms/step - loss: 0.3612 - binary_accuracy: 0.8339 - val_loss: 0.2058 - val_binary_accuracy: 0.9183\n",
            "Epoch 2/100\n",
            "800/800 [==============================] - 12s 15ms/step - loss: 0.1769 - binary_accuracy: 0.9300 - val_loss: 0.1805 - val_binary_accuracy: 0.9237\n",
            "Epoch 3/100\n",
            "800/800 [==============================] - 13s 16ms/step - loss: 0.1364 - binary_accuracy: 0.9455 - val_loss: 0.1361 - val_binary_accuracy: 0.9461\n",
            "Epoch 4/100\n",
            "800/800 [==============================] - 13s 16ms/step - loss: 0.1139 - binary_accuracy: 0.9555 - val_loss: 0.1085 - val_binary_accuracy: 0.9591\n",
            "Epoch 5/100\n",
            "800/800 [==============================] - 13s 16ms/step - loss: 0.1031 - binary_accuracy: 0.9612 - val_loss: 0.1148 - val_binary_accuracy: 0.9556\n",
            "Epoch 6/100\n",
            "800/800 [==============================] - 12s 15ms/step - loss: 0.0940 - binary_accuracy: 0.9645 - val_loss: 0.0933 - val_binary_accuracy: 0.9673\n",
            "Epoch 7/100\n",
            "800/800 [==============================] - 12s 15ms/step - loss: 0.0885 - binary_accuracy: 0.9675 - val_loss: 0.0924 - val_binary_accuracy: 0.9669\n",
            "Epoch 8/100\n",
            "800/800 [==============================] - 12s 15ms/step - loss: 0.0818 - binary_accuracy: 0.9692 - val_loss: 0.0934 - val_binary_accuracy: 0.9663\n",
            "Epoch 9/100\n",
            "800/800 [==============================] - 13s 16ms/step - loss: 0.0777 - binary_accuracy: 0.9705 - val_loss: 0.1010 - val_binary_accuracy: 0.9647\n",
            "Epoch 10/100\n",
            "800/800 [==============================] - 12s 15ms/step - loss: 0.0743 - binary_accuracy: 0.9726 - val_loss: 0.0888 - val_binary_accuracy: 0.9680\n",
            "Epoch 11/100\n",
            "800/800 [==============================] - 12s 15ms/step - loss: 0.0715 - binary_accuracy: 0.9729 - val_loss: 0.0846 - val_binary_accuracy: 0.9723\n",
            "Epoch 12/100\n",
            "800/800 [==============================] - 12s 15ms/step - loss: 0.0676 - binary_accuracy: 0.9751 - val_loss: 0.0991 - val_binary_accuracy: 0.9684\n",
            "Epoch 13/100\n",
            "800/800 [==============================] - 12s 15ms/step - loss: 0.0660 - binary_accuracy: 0.9758 - val_loss: 0.0922 - val_binary_accuracy: 0.9703\n",
            "Epoch 14/100\n",
            "800/800 [==============================] - 12s 15ms/step - loss: 0.0597 - binary_accuracy: 0.9777 - val_loss: 0.0843 - val_binary_accuracy: 0.9712\n",
            "Epoch 15/100\n",
            "800/800 [==============================] - 12s 15ms/step - loss: 0.0600 - binary_accuracy: 0.9777 - val_loss: 0.1350 - val_binary_accuracy: 0.9530\n",
            "Epoch 16/100\n",
            "800/800 [==============================] - 12s 15ms/step - loss: 0.0561 - binary_accuracy: 0.9794 - val_loss: 0.0821 - val_binary_accuracy: 0.9737\n",
            "Epoch 17/100\n",
            "800/800 [==============================] - 12s 15ms/step - loss: 0.0538 - binary_accuracy: 0.9803 - val_loss: 0.0768 - val_binary_accuracy: 0.9750\n",
            "Epoch 18/100\n",
            "800/800 [==============================] - 12s 15ms/step - loss: 0.0532 - binary_accuracy: 0.9802 - val_loss: 0.0725 - val_binary_accuracy: 0.9737\n",
            "Epoch 19/100\n",
            "800/800 [==============================] - 12s 15ms/step - loss: 0.0477 - binary_accuracy: 0.9822 - val_loss: 0.0800 - val_binary_accuracy: 0.9714\n",
            "Epoch 20/100\n",
            "800/800 [==============================] - 12s 15ms/step - loss: 0.0477 - binary_accuracy: 0.9823 - val_loss: 0.0777 - val_binary_accuracy: 0.9727\n",
            "Epoch 21/100\n",
            "800/800 [==============================] - 12s 15ms/step - loss: 0.0443 - binary_accuracy: 0.9831 - val_loss: 0.0783 - val_binary_accuracy: 0.9720\n",
            "Epoch 22/100\n",
            "800/800 [==============================] - 12s 16ms/step - loss: 0.0439 - binary_accuracy: 0.9844 - val_loss: 0.0736 - val_binary_accuracy: 0.9766\n",
            "Epoch 23/100\n",
            "800/800 [==============================] - 13s 16ms/step - loss: 0.0466 - binary_accuracy: 0.9829 - val_loss: 0.0806 - val_binary_accuracy: 0.9700\n",
            "Epoch 24/100\n",
            "800/800 [==============================] - 13s 16ms/step - loss: 0.0416 - binary_accuracy: 0.9844 - val_loss: 0.0860 - val_binary_accuracy: 0.9714\n",
            "Epoch 25/100\n",
            "800/800 [==============================] - 13s 16ms/step - loss: 0.0395 - binary_accuracy: 0.9853 - val_loss: 0.0709 - val_binary_accuracy: 0.9750\n",
            "Epoch 26/100\n",
            "800/800 [==============================] - 13s 16ms/step - loss: 0.0378 - binary_accuracy: 0.9867 - val_loss: 0.0933 - val_binary_accuracy: 0.9684\n",
            "Epoch 27/100\n",
            "800/800 [==============================] - 13s 16ms/step - loss: 0.0385 - binary_accuracy: 0.9856 - val_loss: 0.0822 - val_binary_accuracy: 0.9734\n",
            "Epoch 28/100\n",
            "800/800 [==============================] - 13s 16ms/step - loss: 0.0346 - binary_accuracy: 0.9875 - val_loss: 0.0795 - val_binary_accuracy: 0.9739\n",
            "Epoch 29/100\n",
            "800/800 [==============================] - 12s 15ms/step - loss: 0.0345 - binary_accuracy: 0.9869 - val_loss: 0.0916 - val_binary_accuracy: 0.9722\n",
            "Epoch 30/100\n",
            "800/800 [==============================] - 12s 15ms/step - loss: 0.0335 - binary_accuracy: 0.9880 - val_loss: 0.0930 - val_binary_accuracy: 0.9725\n",
            "Epoch 31/100\n",
            "800/800 [==============================] - 13s 16ms/step - loss: 0.0340 - binary_accuracy: 0.9872 - val_loss: 0.0885 - val_binary_accuracy: 0.9736\n",
            "Epoch 32/100\n",
            "800/800 [==============================] - 12s 16ms/step - loss: 0.0319 - binary_accuracy: 0.9876 - val_loss: 0.1346 - val_binary_accuracy: 0.9575\n",
            "Epoch 33/100\n",
            "800/800 [==============================] - 13s 16ms/step - loss: 0.0356 - binary_accuracy: 0.9872 - val_loss: 0.0823 - val_binary_accuracy: 0.9736\n",
            "Epoch 34/100\n",
            "800/800 [==============================] - 12s 15ms/step - loss: 0.0319 - binary_accuracy: 0.9880 - val_loss: 0.0740 - val_binary_accuracy: 0.9767\n",
            "Epoch 35/100\n",
            "800/800 [==============================] - 13s 16ms/step - loss: 0.0304 - binary_accuracy: 0.9890 - val_loss: 0.0809 - val_binary_accuracy: 0.9745\n",
            "Epoch 36/100\n",
            "800/800 [==============================] - 12s 15ms/step - loss: 0.0305 - binary_accuracy: 0.9892 - val_loss: 0.0848 - val_binary_accuracy: 0.9741\n",
            "Epoch 37/100\n",
            "800/800 [==============================] - 12s 15ms/step - loss: 0.0255 - binary_accuracy: 0.9903 - val_loss: 0.0862 - val_binary_accuracy: 0.9761\n",
            "Epoch 38/100\n",
            "800/800 [==============================] - 12s 16ms/step - loss: 0.0312 - binary_accuracy: 0.9892 - val_loss: 0.0821 - val_binary_accuracy: 0.9773\n",
            "Epoch 39/100\n",
            "800/800 [==============================] - 12s 15ms/step - loss: 0.0257 - binary_accuracy: 0.9905 - val_loss: 0.0824 - val_binary_accuracy: 0.9750\n",
            "Epoch 40/100\n",
            "800/800 [==============================] - 12s 15ms/step - loss: 0.0277 - binary_accuracy: 0.9896 - val_loss: 0.0931 - val_binary_accuracy: 0.9750\n"
          ],
          "name": "stdout"
        }
      ]
    },
    {
      "cell_type": "code",
      "metadata": {
        "colab": {
          "base_uri": "https://localhost:8080/"
        },
        "id": "4ZVp6bs44poU",
        "outputId": "26cf2b9b-80d1-4cfd-b698-5f339ccbdccd"
      },
      "source": [
        "y_pred = np.round(cnn_model_4.predict(X_test_planes))\n",
        "accuracy = accuracy_score(y_test_planes, y_pred)\n",
        "precision = precision_score(y_test_planes, y_pred)\n",
        "recall = recall_score(y_test_planes, y_pred)\n",
        "f1 = f1_score(y_test_planes, y_pred)\n",
        "\n",
        "accuracy, precision, recall, f1"
      ],
      "execution_count": null,
      "outputs": [
        {
          "output_type": "execute_result",
          "data": {
            "text/plain": [
              "(0.975, 0.9444108761329305, 0.9583077866339669, 0.9513085818624466)"
            ]
          },
          "metadata": {
            "tags": []
          },
          "execution_count": 28
        }
      ]
    },
    {
      "cell_type": "markdown",
      "metadata": {
        "id": "6pw8-33VaHu2"
      },
      "source": [
        "## iii.\n",
        "**Classification report**:  \n",
        "Chosen model was *cnn_model_3*. It has early stopping, regularisation and has the following architecture:  "
      ]
    },
    {
      "cell_type": "code",
      "metadata": {
        "colab": {
          "base_uri": "https://localhost:8080/"
        },
        "id": "dryW1O-ggliP",
        "outputId": "ace47398-50b1-4121-d689-e6aeec781de9"
      },
      "source": [
        "cnn_model_3.summary()"
      ],
      "execution_count": null,
      "outputs": [
        {
          "output_type": "stream",
          "text": [
            "Model: \"sequential_5\"\n",
            "_________________________________________________________________\n",
            "Layer (type)                 Output Shape              Param #   \n",
            "=================================================================\n",
            "conv2d_5 (Conv2D)            (None, 18, 18, 32)        896       \n",
            "_________________________________________________________________\n",
            "max_pooling2d_5 (MaxPooling2 (None, 9, 9, 32)          0         \n",
            "_________________________________________________________________\n",
            "flatten_5 (Flatten)          (None, 2592)              0         \n",
            "_________________________________________________________________\n",
            "dense_10 (Dense)             (None, 32)                82976     \n",
            "_________________________________________________________________\n",
            "dense_11 (Dense)             (None, 1)                 33        \n",
            "=================================================================\n",
            "Total params: 83,905\n",
            "Trainable params: 83,905\n",
            "Non-trainable params: 0\n",
            "_________________________________________________________________\n"
          ],
          "name": "stdout"
        }
      ]
    },
    {
      "cell_type": "markdown",
      "metadata": {
        "id": "-l1xHPTRgofs"
      },
      "source": [
        "Key metrics:\n",
        "- Accuracy = 97.9375 %\n",
        "- F1 = 95.9756 %  \n",
        "\n",
        "Other metrics:  \n",
        "- Precision = 95.4518 %\n",
        "- Recall = 96.5052 %\n"
      ]
    },
    {
      "cell_type": "markdown",
      "metadata": {
        "id": "v_f9FIxEUM-2"
      },
      "source": [
        "# Long Short-Term Networks"
      ]
    },
    {
      "cell_type": "markdown",
      "metadata": {
        "id": "u4hxqHrHZUR_"
      },
      "source": [
        "## i."
      ]
    },
    {
      "cell_type": "code",
      "metadata": {
        "colab": {
          "base_uri": "https://localhost:8080/",
          "height": 159
        },
        "id": "QsOsVOjTWKUp",
        "outputId": "8764faea-7dc9-405c-910b-03b4112888ce"
      },
      "source": [
        "download = drive.CreateFile({\"id\": \"1q4UpfYwF6uR5OTSd5Eyfeh5c48Q3ITvL\"})\n",
        "download.GetContentFile(\"complaints.csv\")\n",
        "complaints = pd.read_csv(\"complaints.csv\")\n",
        "print(complaints.shape)\n",
        "complaints.head(3)"
      ],
      "execution_count": null,
      "outputs": [
        {
          "output_type": "stream",
          "text": [
            "(38909, 4)\n"
          ],
          "name": "stdout"
        },
        {
          "output_type": "execute_result",
          "data": {
            "text/html": [
              "<div>\n",
              "<style scoped>\n",
              "    .dataframe tbody tr th:only-of-type {\n",
              "        vertical-align: middle;\n",
              "    }\n",
              "\n",
              "    .dataframe tbody tr th {\n",
              "        vertical-align: top;\n",
              "    }\n",
              "\n",
              "    .dataframe thead th {\n",
              "        text-align: right;\n",
              "    }\n",
              "</style>\n",
              "<table border=\"1\" class=\"dataframe\">\n",
              "  <thead>\n",
              "    <tr style=\"text-align: right;\">\n",
              "      <th></th>\n",
              "      <th>Unnamed: 0</th>\n",
              "      <th>product</th>\n",
              "      <th>consumer_complaint_narrative</th>\n",
              "      <th>category_id</th>\n",
              "    </tr>\n",
              "  </thead>\n",
              "  <tbody>\n",
              "    <tr>\n",
              "      <th>0</th>\n",
              "      <td>190126</td>\n",
              "      <td>Debt collection</td>\n",
              "      <td>XXXX has claimed I owe them {$27.00} for XXXX ...</td>\n",
              "      <td>0</td>\n",
              "    </tr>\n",
              "    <tr>\n",
              "      <th>1</th>\n",
              "      <td>190135</td>\n",
              "      <td>Consumer Loan</td>\n",
              "      <td>Due to inconsistencies in the amount owed that...</td>\n",
              "      <td>1</td>\n",
              "    </tr>\n",
              "    <tr>\n",
              "      <th>2</th>\n",
              "      <td>190155</td>\n",
              "      <td>Mortgage</td>\n",
              "      <td>In XX/XX/XXXX my wages that I earned at my job...</td>\n",
              "      <td>2</td>\n",
              "    </tr>\n",
              "  </tbody>\n",
              "</table>\n",
              "</div>"
            ],
            "text/plain": [
              "   Unnamed: 0  ... category_id\n",
              "0      190126  ...           0\n",
              "1      190135  ...           1\n",
              "2      190155  ...           2\n",
              "\n",
              "[3 rows x 4 columns]"
            ]
          },
          "metadata": {
            "tags": []
          },
          "execution_count": 3
        }
      ]
    },
    {
      "cell_type": "code",
      "metadata": {
        "colab": {
          "base_uri": "https://localhost:8080/",
          "height": 204
        },
        "id": "-01JUsw3qZ9p",
        "outputId": "a2b2bb8e-02ac-4bb7-a76a-bdb3fdad94e8"
      },
      "source": [
        "complaints.drop([\"Unnamed: 0\", \"product\"], axis=1, inplace=True)\n",
        "complaints.head()"
      ],
      "execution_count": null,
      "outputs": [
        {
          "output_type": "execute_result",
          "data": {
            "text/html": [
              "<div>\n",
              "<style scoped>\n",
              "    .dataframe tbody tr th:only-of-type {\n",
              "        vertical-align: middle;\n",
              "    }\n",
              "\n",
              "    .dataframe tbody tr th {\n",
              "        vertical-align: top;\n",
              "    }\n",
              "\n",
              "    .dataframe thead th {\n",
              "        text-align: right;\n",
              "    }\n",
              "</style>\n",
              "<table border=\"1\" class=\"dataframe\">\n",
              "  <thead>\n",
              "    <tr style=\"text-align: right;\">\n",
              "      <th></th>\n",
              "      <th>consumer_complaint_narrative</th>\n",
              "      <th>category_id</th>\n",
              "    </tr>\n",
              "  </thead>\n",
              "  <tbody>\n",
              "    <tr>\n",
              "      <th>0</th>\n",
              "      <td>XXXX has claimed I owe them {$27.00} for XXXX ...</td>\n",
              "      <td>0</td>\n",
              "    </tr>\n",
              "    <tr>\n",
              "      <th>1</th>\n",
              "      <td>Due to inconsistencies in the amount owed that...</td>\n",
              "      <td>1</td>\n",
              "    </tr>\n",
              "    <tr>\n",
              "      <th>2</th>\n",
              "      <td>In XX/XX/XXXX my wages that I earned at my job...</td>\n",
              "      <td>2</td>\n",
              "    </tr>\n",
              "    <tr>\n",
              "      <th>3</th>\n",
              "      <td>I have an open and current mortgage with Chase...</td>\n",
              "      <td>2</td>\n",
              "    </tr>\n",
              "    <tr>\n",
              "      <th>4</th>\n",
              "      <td>XXXX was submitted XX/XX/XXXX. At the time I s...</td>\n",
              "      <td>2</td>\n",
              "    </tr>\n",
              "  </tbody>\n",
              "</table>\n",
              "</div>"
            ],
            "text/plain": [
              "                        consumer_complaint_narrative  category_id\n",
              "0  XXXX has claimed I owe them {$27.00} for XXXX ...            0\n",
              "1  Due to inconsistencies in the amount owed that...            1\n",
              "2  In XX/XX/XXXX my wages that I earned at my job...            2\n",
              "3  I have an open and current mortgage with Chase...            2\n",
              "4  XXXX was submitted XX/XX/XXXX. At the time I s...            2"
            ]
          },
          "metadata": {
            "tags": []
          },
          "execution_count": 4
        }
      ]
    },
    {
      "cell_type": "code",
      "metadata": {
        "colab": {
          "base_uri": "https://localhost:8080/"
        },
        "id": "Ru_oYsE7_-rv",
        "outputId": "8263a58a-51bd-46c2-c561-ce56ae62f2f2"
      },
      "source": [
        "complaints.shape"
      ],
      "execution_count": null,
      "outputs": [
        {
          "output_type": "execute_result",
          "data": {
            "text/plain": [
              "(38909, 2)"
            ]
          },
          "metadata": {
            "tags": []
          },
          "execution_count": 5
        }
      ]
    },
    {
      "cell_type": "markdown",
      "metadata": {
        "id": "rtuOHf-lZUDc"
      },
      "source": [
        "## ii."
      ]
    },
    {
      "cell_type": "code",
      "metadata": {
        "colab": {
          "base_uri": "https://localhost:8080/",
          "height": 268
        },
        "id": "N-HgIbpGr1Vn",
        "outputId": "6833c65d-894f-4155-b62a-b4bd2baff70d"
      },
      "source": [
        "complaints[\"category_id\"].value_counts().sort_values(ascending=False).plot(kind=\"bar\");"
      ],
      "execution_count": null,
      "outputs": [
        {
          "output_type": "display_data",
          "data": {
            "image/png": "[encoded data removed]",
            "text/plain": [
              "<Figure size 432x288 with 1 Axes>"
            ]
          },
          "metadata": {
            "tags": [],
            "needs_background": "light"
          }
        }
      ]
    },
    {
      "cell_type": "markdown",
      "metadata": {
        "id": "Mtx3NAWGsjwt"
      },
      "source": [
        "Text preprocessing:"
      ]
    },
    {
      "cell_type": "code",
      "metadata": {
        "colab": {
          "base_uri": "https://localhost:8080/"
        },
        "id": "FHtr0e9EbR3T",
        "outputId": "e0a1c95c-cf17-43c1-ba80-ccb48a67d03c"
      },
      "source": [
        "complaints.iloc[:, 0]"
      ],
      "execution_count": null,
      "outputs": [
        {
          "output_type": "execute_result",
          "data": {
            "text/plain": [
              "0        XXXX has claimed I owe them {$27.00} for XXXX ...\n",
              "1        Due to inconsistencies in the amount owed that...\n",
              "2        In XX/XX/XXXX my wages that I earned at my job...\n",
              "3        I have an open and current mortgage with Chase...\n",
              "4        XXXX was submitted XX/XX/XXXX. At the time I s...\n",
              "                               ...                        \n",
              "38904    I was contacted by Amsher Collection Agency vi...\n",
              "38905    I ordered products from XXXX XXXX XXXX and pai...\n",
              "38906    I am filing this complaint because EXPERIAN ha...\n",
              "38907    They call more than 5 times a day. They never ...\n",
              "38908    Loan # XXXX XXXX XXXXProperty Address : XXXX X...\n",
              "Name: consumer_complaint_narrative, Length: 38909, dtype: object"
            ]
          },
          "metadata": {
            "tags": []
          },
          "execution_count": 8
        }
      ]
    },
    {
      "cell_type": "code",
      "metadata": {
        "colab": {
          "base_uri": "https://localhost:8080/"
        },
        "id": "NXV0X29B6Wua",
        "outputId": "d9be25ca-b3d0-4116-a958-0a4eceb19839"
      },
      "source": [
        "import nltk\n",
        "nltk.download('stopwords')"
      ],
      "execution_count": null,
      "outputs": [
        {
          "output_type": "stream",
          "text": [
            "[nltk_data] Downloading package stopwords to /root/nltk_data...\n",
            "[nltk_data]   Unzipping corpora/stopwords.zip.\n"
          ],
          "name": "stdout"
        },
        {
          "output_type": "execute_result",
          "data": {
            "text/plain": [
              "True"
            ]
          },
          "metadata": {
            "tags": []
          },
          "execution_count": 9
        }
      ]
    },
    {
      "cell_type": "code",
      "metadata": {
        "id": "T6iWs5BJtnMN"
      },
      "source": [
        "complaints = complaints.reset_index(drop=True)\n",
        "REPLACE_BY_SPACE_RE = re.compile(\"[/(){}\\[\\]\\|@,;]\")\n",
        "BAD_SYMBOLS_RE = re.compile(\"[^0-9a-z #+_]\")\n",
        "STOPWORDS = set(stopwords.words(\"english\"))\n",
        "\n",
        "def clean_text(text):\n",
        "    \"\"\"\n",
        "    text: a string\n",
        "    Returns: modified initial string\n",
        "    \"\"\"\n",
        "    text = text.lower()\n",
        "    text = REPLACE_BY_SPACE_RE.sub(' ', text)\n",
        "    text = BAD_SYMBOLS_RE.sub('', text)\n",
        "    text = text.replace('x', '')\n",
        "    text = ' '.join(word for word in text.split() if word not in STOPWORDS)\n",
        "\n",
        "    return text\n",
        "\n",
        "complaints[\"consumer_complaint_narrative\"] = complaints[\"consumer_complaint_narrative\"].apply(clean_text)\n",
        "complaints[\"consumer_complaint_narrative\"] = complaints[\"consumer_complaint_narrative\"].str.replace('\\d+', '')"
      ],
      "execution_count": null,
      "outputs": []
    },
    {
      "cell_type": "code",
      "metadata": {
        "colab": {
          "base_uri": "https://localhost:8080/",
          "height": 52
        },
        "id": "-so6OqRN7QDu",
        "outputId": "94c16d43-c3b5-489f-dcee-da735fbede83"
      },
      "source": [
        "complaints.iloc[:, 0][0]"
      ],
      "execution_count": null,
      "outputs": [
        {
          "output_type": "execute_result",
          "data": {
            "application/vnd.google.colaboratory.intrinsic+json": {
              "type": "string"
            },
            "text/plain": [
              "'claimed owe  years despite proof payment sent canceled check ownpaid invoice  continue insist owe collection agencies stop harassment bill already paid four years ago'"
            ]
          },
          "metadata": {
            "tags": []
          },
          "execution_count": 11
        }
      ]
    },
    {
      "cell_type": "code",
      "metadata": {
        "colab": {
          "base_uri": "https://localhost:8080/",
          "height": 204
        },
        "id": "erG03f7o8f_c",
        "outputId": "e5e05749-0c7f-401d-dc12-c471e4b91556"
      },
      "source": [
        "complaints.head()"
      ],
      "execution_count": null,
      "outputs": [
        {
          "output_type": "execute_result",
          "data": {
            "text/html": [
              "<div>\n",
              "<style scoped>\n",
              "    .dataframe tbody tr th:only-of-type {\n",
              "        vertical-align: middle;\n",
              "    }\n",
              "\n",
              "    .dataframe tbody tr th {\n",
              "        vertical-align: top;\n",
              "    }\n",
              "\n",
              "    .dataframe thead th {\n",
              "        text-align: right;\n",
              "    }\n",
              "</style>\n",
              "<table border=\"1\" class=\"dataframe\">\n",
              "  <thead>\n",
              "    <tr style=\"text-align: right;\">\n",
              "      <th></th>\n",
              "      <th>consumer_complaint_narrative</th>\n",
              "      <th>category_id</th>\n",
              "    </tr>\n",
              "  </thead>\n",
              "  <tbody>\n",
              "    <tr>\n",
              "      <th>0</th>\n",
              "      <td>claimed owe  years despite proof payment sent ...</td>\n",
              "      <td>0</td>\n",
              "    </tr>\n",
              "    <tr>\n",
              "      <th>1</th>\n",
              "      <td>due inconsistencies amount owed told bank amou...</td>\n",
              "      <td>1</td>\n",
              "    </tr>\n",
              "    <tr>\n",
              "      <th>2</th>\n",
              "      <td>wages earned job decreased almost half knew tr...</td>\n",
              "      <td>2</td>\n",
              "    </tr>\n",
              "    <tr>\n",
              "      <th>3</th>\n",
              "      <td>open current mortgage chase bank # chase repor...</td>\n",
              "      <td>2</td>\n",
              "    </tr>\n",
              "    <tr>\n",
              "      <th>4</th>\n",
              "      <td>submitted time submitted complaint dealt rushm...</td>\n",
              "      <td>2</td>\n",
              "    </tr>\n",
              "  </tbody>\n",
              "</table>\n",
              "</div>"
            ],
            "text/plain": [
              "                        consumer_complaint_narrative  category_id\n",
              "0  claimed owe  years despite proof payment sent ...            0\n",
              "1  due inconsistencies amount owed told bank amou...            1\n",
              "2  wages earned job decreased almost half knew tr...            2\n",
              "3  open current mortgage chase bank # chase repor...            2\n",
              "4  submitted time submitted complaint dealt rushm...            2"
            ]
          },
          "metadata": {
            "tags": []
          },
          "execution_count": 12
        }
      ]
    },
    {
      "cell_type": "code",
      "metadata": {
        "colab": {
          "base_uri": "https://localhost:8080/"
        },
        "id": "KEiWyHC5-K-y",
        "outputId": "7787bc92-489c-4e79-d522-7c6446204181"
      },
      "source": [
        "# more text processing tasks:\n",
        "# vectorize by turning each text into seq of integers / vector\n",
        "# limit data set to the top 50 000 words\n",
        "# set max number of words in each complaint at 250\n",
        "\n",
        "MAX_NB_WORDS = 50000\n",
        "MAX_SEQUENCE_LENGTH = 250\n",
        "EMBEDDING_DIM = 100\n",
        "tokenizer = Tokenizer(num_words=MAX_NB_WORDS, \n",
        "                      filters='!\"#$%&()*+,-./:;<=>?@[\\]^_`{|}~', \n",
        "                      lower=True)\n",
        "tokenizer.fit_on_texts(complaints[\"consumer_complaint_narrative\"].values)\n",
        "word_index = tokenizer.word_index\n",
        "print(\"Found %s unique tokens.\" % len(word_index))"
      ],
      "execution_count": null,
      "outputs": [
        {
          "output_type": "stream",
          "text": [
            "Found 43423 unique tokens.\n"
          ],
          "name": "stdout"
        }
      ]
    },
    {
      "cell_type": "markdown",
      "metadata": {
        "id": "G8CQYyC2ZT5U"
      },
      "source": [
        "## iii."
      ]
    },
    {
      "cell_type": "code",
      "metadata": {
        "colab": {
          "base_uri": "https://localhost:8080/"
        },
        "id": "1ofNUfCvCj3g",
        "outputId": "c1a4b0a7-0ab3-4713-b95e-27c024ddc5ef"
      },
      "source": [
        "X = tokenizer.texts_to_sequences(complaints[\"consumer_complaint_narrative\"].values)\n",
        "X = pad_sequences(X, maxlen=MAX_SEQUENCE_LENGTH)\n",
        "print(X.shape)\n",
        "X"
      ],
      "execution_count": null,
      "outputs": [
        {
          "output_type": "stream",
          "text": [
            "(38909, 250)\n"
          ],
          "name": "stdout"
        },
        {
          "output_type": "execute_result",
          "data": {
            "text/plain": [
              "array([[   0,    0,    0, ..., 1281,   39,  186],\n",
              "       [   0,    0,    0, ..., 2137,  174,  199],\n",
              "       [1130,  365, 4310, ...,  527, 3268, 1827],\n",
              "       ...,\n",
              "       [   0,    0,    0, ...,  576,  494,  310],\n",
              "       [   0,    0,    0, ...,  151,  139,  245],\n",
              "       [   0,    0,    0, ...,   11,   61,  230]], dtype=int32)"
            ]
          },
          "metadata": {
            "tags": []
          },
          "execution_count": 14
        }
      ]
    },
    {
      "cell_type": "code",
      "metadata": {
        "colab": {
          "base_uri": "https://localhost:8080/"
        },
        "id": "KDd_gZJjFvcZ",
        "outputId": "849a6ff3-6802-4ad0-c96d-798615a83f96"
      },
      "source": [
        "y = pd.get_dummies(complaints[\"category_id\"]).values\n",
        "print(y.shape)\n",
        "y"
      ],
      "execution_count": null,
      "outputs": [
        {
          "output_type": "stream",
          "text": [
            "(38909, 11)\n"
          ],
          "name": "stdout"
        },
        {
          "output_type": "execute_result",
          "data": {
            "text/plain": [
              "array([[1, 0, 0, ..., 0, 0, 0],\n",
              "       [0, 1, 0, ..., 0, 0, 0],\n",
              "       [0, 0, 1, ..., 0, 0, 0],\n",
              "       ...,\n",
              "       [0, 0, 0, ..., 0, 0, 0],\n",
              "       [1, 0, 0, ..., 0, 0, 0],\n",
              "       [0, 0, 1, ..., 0, 0, 0]], dtype=uint8)"
            ]
          },
          "metadata": {
            "tags": []
          },
          "execution_count": 15
        }
      ]
    },
    {
      "cell_type": "code",
      "metadata": {
        "colab": {
          "base_uri": "https://localhost:8080/"
        },
        "id": "5L7iXKy1aIjD",
        "outputId": "4c7db637-74cb-41b4-b279-c3e3003886e4"
      },
      "source": [
        "train_ratio = .8\n",
        "validation_ratio = .1\n",
        "test_ratio = .1\n",
        "\n",
        "X_train, X_test, y_train, y_test = train_test_split(\n",
        "    X, \n",
        "    y, \n",
        "    test_size=1 - train_ratio,\n",
        "    random_state=1\n",
        "    )\n",
        "X_val, X_test, y_val, y_test = train_test_split(\n",
        "    X_test, \n",
        "    y_test, \n",
        "    test_size=test_ratio/(test_ratio + validation_ratio),\n",
        "    random_state=1\n",
        "    ) \n",
        "print(X.shape[0])\n",
        "print(X_train.shape[0] + X_test.shape[0] + X_val.shape[0])\n",
        "X_train.shape, y_train.shape, X_test.shape, y_test.shape, X_val.shape, y_val.shape"
      ],
      "execution_count": null,
      "outputs": [
        {
          "output_type": "stream",
          "text": [
            "38909\n",
            "38909\n"
          ],
          "name": "stdout"
        },
        {
          "output_type": "execute_result",
          "data": {
            "text/plain": [
              "((31127, 250), (31127, 11), (3891, 250), (3891, 11), (3891, 250), (3891, 11))"
            ]
          },
          "metadata": {
            "tags": []
          },
          "execution_count": 16
        }
      ]
    },
    {
      "cell_type": "markdown",
      "metadata": {
        "id": "iGHkiRxRZTr_"
      },
      "source": [
        "## iv."
      ]
    },
    {
      "cell_type": "code",
      "metadata": {
        "colab": {
          "base_uri": "https://localhost:8080/"
        },
        "id": "douURE2B0HRc",
        "outputId": "416af28c-52a2-4550-99cf-ef55db03a437"
      },
      "source": [
        "rnn_mod = keras.Sequential([layers.Embedding(MAX_NB_WORDS, \n",
        "                                              EMBEDDING_DIM, \n",
        "                                              input_length=X_train.shape[1]), \n",
        "                             layers.SimpleRNN(128),\n",
        "                             layers.Dense(11, \n",
        "                                          activation=\"softmax\")])\n",
        "rnn_mod.compile(optimizer=\"adam\", \n",
        "                loss=\"categorical_crossentropy\", \n",
        "                metrics=[\"accuracy\"])\n",
        "early_stopping = EarlyStopping(min_delta=0.001, \n",
        "                               patience=15, \n",
        "                               restore_best_weights=True)\n",
        "rnn_history = rnn_mod.fit(X_train, y_train, \n",
        "                          validation_data=(X_val, y_val),\n",
        "                          batch_size=32, \n",
        "                          epochs=5, \n",
        "                          callbacks=[early_stopping])"
      ],
      "execution_count": null,
      "outputs": [
        {
          "output_type": "stream",
          "text": [
            "Epoch 1/5\n",
            "973/973 [==============================] - 142s 145ms/step - loss: 1.8101 - accuracy: 0.3744 - val_loss: 1.4403 - val_accuracy: 0.5330\n",
            "Epoch 2/5\n",
            "973/973 [==============================] - 140s 144ms/step - loss: 1.5823 - accuracy: 0.4665 - val_loss: 1.4773 - val_accuracy: 0.5048\n",
            "Epoch 3/5\n",
            "973/973 [==============================] - 141s 144ms/step - loss: 1.4186 - accuracy: 0.5501 - val_loss: 1.2631 - val_accuracy: 0.6032\n",
            "Epoch 4/5\n",
            "973/973 [==============================] - 139s 143ms/step - loss: 1.4253 - accuracy: 0.5286 - val_loss: 1.6089 - val_accuracy: 0.4582\n",
            "Epoch 5/5\n",
            "973/973 [==============================] - 139s 142ms/step - loss: 1.2764 - accuracy: 0.5802 - val_loss: 1.3327 - val_accuracy: 0.5644\n"
          ],
          "name": "stdout"
        }
      ]
    },
    {
      "cell_type": "code",
      "metadata": {
        "colab": {
          "base_uri": "https://localhost:8080/"
        },
        "id": "N0hfSQzF3zgS",
        "outputId": "8b3f5961-5673-4553-d310-257bc0dfe8bb"
      },
      "source": [
        "print(np.mean(rnn_history.history[\"val_accuracy\"])*100)\n",
        "rnn_mod.evaluate(X_test, y_test)"
      ],
      "execution_count": null,
      "outputs": [
        {
          "output_type": "stream",
          "text": [
            "53.27165186405182\n",
            "122/122 [==============================] - 3s 24ms/step - loss: 1.3161 - accuracy: 0.5652\n"
          ],
          "name": "stdout"
        },
        {
          "output_type": "execute_result",
          "data": {
            "text/plain": [
              "[1.3160613775253296, 0.5651503205299377]"
            ]
          },
          "metadata": {
            "tags": []
          },
          "execution_count": 43
        }
      ]
    },
    {
      "cell_type": "markdown",
      "metadata": {
        "id": "FjwL1pEsZTdc"
      },
      "source": [
        "## v."
      ]
    },
    {
      "cell_type": "code",
      "metadata": {
        "colab": {
          "base_uri": "https://localhost:8080/"
        },
        "id": "QkyOicEEdXSX",
        "outputId": "7efb64e1-140f-481d-a440-8bef6b9b3b83"
      },
      "source": [
        "lstm_mod = keras.Sequential([layers.Embedding(MAX_NB_WORDS, \n",
        "                                              EMBEDDING_DIM, \n",
        "                                              input_length=X_train.shape[1]), \n",
        "                             layers.SpatialDropout1D(0.2),\n",
        "                             layers.LSTM(100, \n",
        "                                         dropout=0.2, \n",
        "                                         recurrent_dropout=0.2),\n",
        "                             layers.Dense(11, \n",
        "                                          activation=\"softmax\")])\n",
        "lstm_mod.compile(optimizer=\"adam\", \n",
        "                 loss=\"categorical_crossentropy\", \n",
        "                 metrics=[\"accuracy\"])\n",
        "lstm_history = lstm_mod.fit(X_train, y_train, \n",
        "                            validation_data=(X_val, y_val),\n",
        "                            batch_size=32, \n",
        "                            epochs=5, \n",
        "                            callbacks=[early_stopping])"
      ],
      "execution_count": null,
      "outputs": [
        {
          "output_type": "stream",
          "text": [
            "Epoch 1/5\n",
            "973/973 [==============================] - 585s 599ms/step - loss: 1.2506 - accuracy: 0.5959 - val_loss: 0.8997 - val_accuracy: 0.7294\n",
            "Epoch 2/5\n",
            "973/973 [==============================] - 585s 601ms/step - loss: 0.8691 - accuracy: 0.7390 - val_loss: 0.8027 - val_accuracy: 0.7564\n",
            "Epoch 3/5\n",
            "973/973 [==============================] - 584s 601ms/step - loss: 0.6421 - accuracy: 0.8067 - val_loss: 0.6925 - val_accuracy: 0.7923\n",
            "Epoch 4/5\n",
            "973/973 [==============================] - 584s 600ms/step - loss: 0.5722 - accuracy: 0.8292 - val_loss: 0.6739 - val_accuracy: 0.8070\n",
            "Epoch 5/5\n",
            "973/973 [==============================] - 582s 599ms/step - loss: 0.4841 - accuracy: 0.8578 - val_loss: 0.6497 - val_accuracy: 0.8108\n"
          ],
          "name": "stdout"
        }
      ]
    },
    {
      "cell_type": "code",
      "metadata": {
        "colab": {
          "base_uri": "https://localhost:8080/"
        },
        "id": "f9Wgpr403isd",
        "outputId": "6c54e9d1-f84c-4e2f-974c-7f9cfe3d2548"
      },
      "source": [
        "print(np.mean(lstm_history.history[\"val_accuracy\"])*100)\n",
        "lstm_mod.evaluate(X_test, y_test)"
      ],
      "execution_count": null,
      "outputs": [
        {
          "output_type": "stream",
          "text": [
            "77.91827321052551\n",
            "122/122 [==============================] - 8s 65ms/step - loss: 0.6110 - accuracy: 0.8219\n"
          ],
          "name": "stdout"
        },
        {
          "output_type": "execute_result",
          "data": {
            "text/plain": [
              "[0.611047089099884, 0.8218966722488403]"
            ]
          },
          "metadata": {
            "tags": []
          },
          "execution_count": 44
        }
      ]
    },
    {
      "cell_type": "markdown",
      "metadata": {
        "id": "WZFppL3qZTQh"
      },
      "source": [
        "## vi.\n",
        "On both the validation and test sets, the LSTM model outperformed the RNN in terms of accuracy. LSTMs are usually more suited to these problems and this is exaggerated in this problem containing multiple classes to predict. The reason LSTMs are better is likely since they are better at remembering long (short) term dependencies. "
      ]
    },
    {
      "cell_type": "markdown",
      "metadata": {
        "id": "r60MkOuyUMu6"
      },
      "source": [
        "# A3C and GAN"
      ]
    },
    {
      "cell_type": "markdown",
      "metadata": {
        "id": "kxBJuUBcZj-i"
      },
      "source": [
        "## 2. i."
      ]
    },
    {
      "cell_type": "code",
      "metadata": {
        "colab": {
          "base_uri": "https://localhost:8080/"
        },
        "id": "-AOeT3XEy-xB",
        "outputId": "0b580d1e-a2eb-47a8-d777-a1e64e455b5f"
      },
      "source": [
        "# !pip install imageio\n",
        "# !pip install git+https://github.com/tensorflow/docs"
      ],
      "execution_count": null,
      "outputs": [
        {
          "output_type": "stream",
          "text": [
            "Requirement already satisfied: imageio in /usr/local/lib/python3.7/dist-packages (2.4.1)\n",
            "Requirement already satisfied: pillow in /usr/local/lib/python3.7/dist-packages (from imageio) (7.1.2)\n",
            "Requirement already satisfied: numpy in /usr/local/lib/python3.7/dist-packages (from imageio) (1.19.5)\n",
            "Collecting git+https://github.com/tensorflow/docs\n",
            "  Cloning https://github.com/tensorflow/docs to /tmp/pip-req-build-bgu8_622\n",
            "  Running command git clone -q https://github.com/tensorflow/docs /tmp/pip-req-build-bgu8_622\n",
            "Requirement already satisfied: astor in /usr/local/lib/python3.7/dist-packages (from tensorflow-docs===0.0.0fef367d8447ce4f5fe648bc6e8b07baf5359bacc-) (0.8.1)\n",
            "Requirement already satisfied: absl-py in /usr/local/lib/python3.7/dist-packages (from tensorflow-docs===0.0.0fef367d8447ce4f5fe648bc6e8b07baf5359bacc-) (0.12.0)\n",
            "Requirement already satisfied: protobuf>=3.14 in /usr/local/lib/python3.7/dist-packages (from tensorflow-docs===0.0.0fef367d8447ce4f5fe648bc6e8b07baf5359bacc-) (3.17.3)\n",
            "Requirement already satisfied: pyyaml in /usr/local/lib/python3.7/dist-packages (from tensorflow-docs===0.0.0fef367d8447ce4f5fe648bc6e8b07baf5359bacc-) (3.13)\n",
            "Requirement already satisfied: six>=1.9 in /usr/local/lib/python3.7/dist-packages (from protobuf>=3.14->tensorflow-docs===0.0.0fef367d8447ce4f5fe648bc6e8b07baf5359bacc-) (1.15.0)\n",
            "Building wheels for collected packages: tensorflow-docs\n",
            "  Building wheel for tensorflow-docs (setup.py) ... \u001b[?25l\u001b[?25hdone\n",
            "  Created wheel for tensorflow-docs: filename=tensorflow_docs-0.0.0fef367d8447ce4f5fe648bc6e8b07baf5359bacc_-py3-none-any.whl size=154289 sha256=32e78809980fbdd6640b2a3ec526fa6a26af251bd6da8e806272b92f3f738dab\n",
            "  Stored in directory: /tmp/pip-ephem-wheel-cache-ehxec1_2/wheels/cc/c4/d8/5341e93b6376c5c929c49469fce21155eb69cef1a4da4ce32c\n",
            "\u001b[33m  WARNING: Built wheel for tensorflow-docs is invalid: Metadata 1.2 mandates PEP 440 version, but '0.0.0fef367d8447ce4f5fe648bc6e8b07baf5359bacc-' is not\u001b[0m\n",
            "Failed to build tensorflow-docs\n",
            "Installing collected packages: tensorflow-docs\n",
            "    Running setup.py install for tensorflow-docs ... \u001b[?25l\u001b[?25hdone\n",
            "\u001b[33m  DEPRECATION: tensorflow-docs was installed using the legacy 'setup.py install' method, because a wheel could not be built for it. A possible replacement is to fix the wheel build issue reported above. You can find discussion regarding this at https://github.com/pypa/pip/issues/8368.\u001b[0m\n",
            "Successfully installed tensorflow-docs-0.0.0fef367d8447ce4f5fe648bc6e8b07baf5359bacc-\n"
          ],
          "name": "stdout"
        }
      ]
    },
    {
      "cell_type": "code",
      "metadata": {
        "colab": {
          "base_uri": "https://localhost:8080/"
        },
        "id": "838H0Idizgz-",
        "outputId": "8bbd0a0b-68ad-4578-d224-ed06c2378ebd"
      },
      "source": [
        "(train_images, train_labels), (_, _) = tf.keras.datasets.mnist.load_data()"
      ],
      "execution_count": null,
      "outputs": [
        {
          "output_type": "stream",
          "text": [
            "Downloading data from https://storage.googleapis.com/tensorflow/tf-keras-datasets/mnist.npz\n",
            "11493376/11490434 [==============================] - 32s 3us/step\n"
          ],
          "name": "stdout"
        }
      ]
    },
    {
      "cell_type": "markdown",
      "metadata": {
        "id": "q13aOVBvZoHX"
      },
      "source": [
        "## ii."
      ]
    },
    {
      "cell_type": "code",
      "metadata": {
        "id": "fTfV8FH6zgwM"
      },
      "source": [
        "train_images = train_images.reshape(train_images.shape[0], \n",
        "                                    28, 28, 1).astype('float32')\n",
        "train_images = (train_images - 127.5) / 127.5  # normalize the images to [-1, 1]"
      ],
      "execution_count": null,
      "outputs": []
    },
    {
      "cell_type": "code",
      "metadata": {
        "id": "dnguOS2mzgq5"
      },
      "source": [
        "BUFFER_SIZE = 60000\n",
        "BATCH_SIZE = 256"
      ],
      "execution_count": null,
      "outputs": []
    },
    {
      "cell_type": "code",
      "metadata": {
        "id": "_rx8Fgn2zq8s"
      },
      "source": [
        "# batch and shuffle data\n",
        "train_dataset = tf.data.Dataset.from_tensor_slices(train_images).shuffle(BUFFER_SIZE).batch(BATCH_SIZE)"
      ],
      "execution_count": null,
      "outputs": []
    },
    {
      "cell_type": "code",
      "metadata": {
        "id": "Dmiwzx-Qzq5k"
      },
      "source": [
        "# define generator\n",
        "def make_generator_model():\n",
        "    model = tf.keras.Sequential()\n",
        "    model.add(layers.Dense(7*7*256, use_bias=False, input_shape=(100,)))\n",
        "    model.add(layers.BatchNormalization())\n",
        "    model.add(layers.LeakyReLU())\n",
        "    model.add(layers.Reshape((7, 7, 256)))\n",
        "    assert model.output_shape == (None, 7, 7, 256)  # Note: None is the batch size\n",
        "    model.add(layers.Conv2DTranspose(128, \n",
        "                                     (5, 5), \n",
        "                                     strides=(1, 1), \n",
        "                                     padding='same', \n",
        "                                     use_bias=False))\n",
        "    assert model.output_shape == (None, 7, 7, 128)\n",
        "    model.add(layers.BatchNormalization())\n",
        "    model.add(layers.LeakyReLU())\n",
        "    model.add(layers.Conv2DTranspose(64, \n",
        "                                     (5, 5), \n",
        "                                     strides=(2, 2), \n",
        "                                     padding='same', \n",
        "                                     use_bias=False))\n",
        "    assert model.output_shape == (None, 14, 14, 64)\n",
        "    model.add(layers.BatchNormalization())\n",
        "    model.add(layers.LeakyReLU())\n",
        "    model.add(layers.Conv2DTranspose(1, \n",
        "                                     (5, 5), \n",
        "                                     strides=(2, 2), \n",
        "                                     padding='same', \n",
        "                                     use_bias=False, \n",
        "                                     activation='tanh'))\n",
        "    assert model.output_shape == (None, 28, 28, 1)\n",
        "\n",
        "    return model"
      ],
      "execution_count": null,
      "outputs": []
    },
    {
      "cell_type": "code",
      "metadata": {
        "id": "HYQvA4vYzq24",
        "outputId": "d8bfa896-9410-470a-afd9-0cb89083183a"
      },
      "source": [
        "# use untrained generator to create image\n",
        "generator = make_generator_model()\n",
        "noise = tf.random.normal([1, 100])\n",
        "generated_image = generator(noise, training=False)\n",
        "plt.imshow(generated_image[0, :, :, 0], cmap='gray');"
      ],
      "execution_count": null,
      "outputs": [
        {
          "output_type": "display_data",
          "data": {
            "image/png": "[encoded data removed]",
            "text/plain": [
              "<Figure size 432x288 with 1 Axes>"
            ]
          },
          "metadata": {
            "tags": [],
            "needs_background": "light"
          }
        }
      ]
    },
    {
      "cell_type": "code",
      "metadata": {
        "id": "K8PjE1Przqza"
      },
      "source": [
        "# define discriminator\n",
        "def make_discriminator_model():\n",
        "    model = tf.keras.Sequential()\n",
        "    model.add(layers.Conv2D(64, (5, 5), strides=(2, 2), padding='same',\n",
        "                                     input_shape=[28, 28, 1]))\n",
        "    model.add(layers.LeakyReLU())\n",
        "    model.add(layers.Dropout(0.3))\n",
        "    model.add(layers.Conv2D(128, (5, 5), strides=(2, 2), padding='same'))\n",
        "    model.add(layers.LeakyReLU())\n",
        "    model.add(layers.Dropout(0.3))\n",
        "    model.add(layers.Flatten())\n",
        "    model.add(layers.Dense(1))\n",
        "\n",
        "    return model"
      ],
      "execution_count": null,
      "outputs": []
    },
    {
      "cell_type": "code",
      "metadata": {
        "id": "JZ2ryTo3fNb8",
        "outputId": "c74b0f20-f0a0-402e-e66e-72980fda0b06"
      },
      "source": [
        "# classify generated image above as real/fake (using untrained discriminator)\n",
        "discriminator = make_discriminator_model()\n",
        "decision = discriminator(generated_image)\n",
        "print (decision)"
      ],
      "execution_count": null,
      "outputs": [
        {
          "output_type": "stream",
          "text": [
            "tf.Tensor([[-0.0009099]], shape=(1, 1), dtype=float32)\n"
          ],
          "name": "stdout"
        }
      ]
    },
    {
      "cell_type": "code",
      "metadata": {
        "id": "8zI4mMWm0XQ9"
      },
      "source": [
        "# helper function to compute cross entropy loss\n",
        "cross_entropy = tf.keras.losses.BinaryCrossentropy(from_logits=True)"
      ],
      "execution_count": null,
      "outputs": []
    },
    {
      "cell_type": "code",
      "metadata": {
        "id": "orgdTGCp0XM2"
      },
      "source": [
        "def discriminator_loss(real_output, fake_output):\n",
        "    \"\"\"\n",
        "    Returns: total loss from real and fake output for discriminator\n",
        "    \"\"\"\n",
        "    real_loss = cross_entropy(tf.ones_like(real_output), real_output)\n",
        "    fake_loss = cross_entropy(tf.zeros_like(fake_output), fake_output)\n",
        "    total_loss = real_loss + fake_loss\n",
        "    return total_loss"
      ],
      "execution_count": null,
      "outputs": []
    },
    {
      "cell_type": "code",
      "metadata": {
        "id": "q6zKntaW0XJr"
      },
      "source": [
        "def generator_loss(fake_output):\n",
        "    \"\"\"\n",
        "    Returns: cross entropy measure of fake output for generator\n",
        "    \"\"\"\n",
        "    return cross_entropy(tf.ones_like(fake_output), fake_output)"
      ],
      "execution_count": null,
      "outputs": []
    },
    {
      "cell_type": "code",
      "metadata": {
        "id": "SbO9NSzY0XGY"
      },
      "source": [
        "generator_optimizer = tf.keras.optimizers.Adam(1e-4)\n",
        "discriminator_optimizer = tf.keras.optimizers.Adam(1e-4)"
      ],
      "execution_count": null,
      "outputs": []
    },
    {
      "cell_type": "code",
      "metadata": {
        "id": "C6egscT70XCb"
      },
      "source": [
        "checkpoint_dir = './training_checkpoints'\n",
        "checkpoint_prefix = os.path.join(checkpoint_dir, \"ckpt\")\n",
        "checkpoint = tf.train.Checkpoint(generator_optimizer=generator_optimizer,\n",
        "                                 discriminator_optimizer=discriminator_optimizer,\n",
        "                                 generator=generator,\n",
        "                                 discriminator=discriminator)"
      ],
      "execution_count": null,
      "outputs": []
    },
    {
      "cell_type": "code",
      "metadata": {
        "id": "PauQN0ZA0mem"
      },
      "source": [
        "# define training parameters\n",
        "EPOCHS = 50\n",
        "noise_dim = 100\n",
        "num_examples_to_generate = 16\n",
        "\n",
        "# seed to reuse overtime to visualize progress in GIF\n",
        "seed = tf.random.normal([num_examples_to_generate, noise_dim])"
      ],
      "execution_count": null,
      "outputs": []
    },
    {
      "cell_type": "code",
      "metadata": {
        "id": "6sPJHMrl0s7V"
      },
      "source": [
        "@tf.function\n",
        "def train_step(images):\n",
        "    \"\"\"\n",
        "    Define a training step.\n",
        "    \"\"\"\n",
        "    noise = tf.random.normal([BATCH_SIZE, noise_dim])\n",
        "    with tf.GradientTape() as gen_tape, tf.GradientTape() as disc_tape:\n",
        "        generated_images = generator(noise, training=True)\n",
        "        real_output = discriminator(images, training=True)\n",
        "        fake_output = discriminator(generated_images, training=True)\n",
        "        gen_loss = generator_loss(fake_output)\n",
        "        disc_loss = discriminator_loss(real_output, fake_output)\n",
        "\n",
        "    gradients_of_generator = gen_tape.gradient(gen_loss, generator.trainable_variables)\n",
        "    gradients_of_discriminator = disc_tape.gradient(disc_loss, discriminator.trainable_variables)\n",
        "\n",
        "    generator_optimizer.apply_gradients(zip(gradients_of_generator, generator.trainable_variables))\n",
        "    discriminator_optimizer.apply_gradients(zip(gradients_of_discriminator, discriminator.trainable_variables))"
      ],
      "execution_count": null,
      "outputs": []
    },
    {
      "cell_type": "code",
      "metadata": {
        "id": "x36YuxJJ0xUQ"
      },
      "source": [
        "def train(dataset, epochs):\n",
        "    \"\"\"\n",
        "    Define training procedure.\n",
        "    \"\"\"\n",
        "    for epoch in range(epochs):\n",
        "        print(epoch)\n",
        "        start = time.time()\n",
        "\n",
        "    for image_batch in dataset:\n",
        "        train_step(image_batch)\n",
        "\n",
        "    # produce images for the GIF in training\n",
        "    display.clear_output(wait=True)\n",
        "    generate_and_save_images(generator,\n",
        "                             epoch + 1,\n",
        "                             seed)\n",
        "\n",
        "    # save model every 15 epochs\n",
        "    if (epoch + 1) % 15 == 0:\n",
        "        checkpoint.save(file_prefix = checkpoint_prefix)\n",
        "\n",
        "    print (\"Time for epoch {} is {} sec\".format(epoch + 1, \n",
        "                                                time.time()-start))\n",
        "\n",
        "  # generate after final epoch\n",
        "    display.clear_output(wait=True)\n",
        "    generate_and_save_images(generator, epochs, seed)"
      ],
      "execution_count": null,
      "outputs": []
    },
    {
      "cell_type": "code",
      "metadata": {
        "id": "rm7U8xGz0088"
      },
      "source": [
        "def generate_and_save_images(model, epoch, test_input):\n",
        "    # `training` set to False so all layers use batchnorm\n",
        "    predictions = model(test_input, training=False)\n",
        "    fig = plt.figure(figsize=(4, 4))\n",
        "    for i in range(predictions.shape[0]):\n",
        "        plt.subplot(4, 4, i+1)\n",
        "        plt.imshow(predictions[i, :, :, 0] * 127.5 + 127.5, cmap='gray')\n",
        "        plt.axis('off')\n",
        "\n",
        "    plt.savefig('image_at_epoch_{:04d}.png'.format(epoch))\n",
        "    plt.show()"
      ],
      "execution_count": null,
      "outputs": []
    },
    {
      "cell_type": "markdown",
      "metadata": {
        "id": "zx3aVhfyZn-u"
      },
      "source": [
        "## iii."
      ]
    },
    {
      "cell_type": "code",
      "metadata": {
        "colab": {
          "base_uri": "https://localhost:8080/",
          "height": 282
        },
        "id": "R2ZeeRY403fy",
        "outputId": "bd8c59db-a0fc-4321-d6bf-e0159f9bc8fb"
      },
      "source": [
        "train(train_dataset, EPOCHS)"
      ],
      "execution_count": null,
      "outputs": [
        {
          "output_type": "display_data",
          "data": {
            "image/png": "[encoded data removed]",
            "text/plain": [
              "<Figure size 288x288 with 16 Axes>"
            ]
          },
          "metadata": {
            "tags": [],
            "needs_background": "light"
          }
        },
        {
          "output_type": "stream",
          "text": [
            "Time for epoch 8 is 1023.5622560977936 sec\n",
            "8\n"
          ],
          "name": "stdout"
        }
      ]
    },
    {
      "cell_type": "code",
      "metadata": {
        "id": "gjenNDoz0-hp"
      },
      "source": [
        "# restore checkpoint to resume training\n",
        "# checkpoint.restore(tf.train.latest_checkpoint(checkpoint_dir))"
      ],
      "execution_count": null,
      "outputs": []
    },
    {
      "cell_type": "code",
      "metadata": {
        "id": "ZWxlfsjm1B0E"
      },
      "source": [
        "def display_image(epoch_no):\n",
        "    return PIL.Image.open('image_at_epoch_{:04d}.png'.format(epoch_no))\n",
        "\n",
        "display_image(EPOCHS) # show last epoch image"
      ],
      "execution_count": null,
      "outputs": []
    }
  ]
}