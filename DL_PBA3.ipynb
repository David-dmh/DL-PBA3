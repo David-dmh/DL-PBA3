{
  "nbformat": 4,
  "nbformat_minor": 0,
  "metadata": {
    "colab": {
      "name": "DL PBA3.ipynb",
      "provenance": [],
      "collapsed_sections": [],
      "toc_visible": true,
      "mount_file_id": "1lqtCp7QHMmk3RpseZx5P-Tc7Xd9bL0cS",
      "authorship_tag": "ABX9TyNJLZLJ86IQWtHb8UA7M0Br",
      "include_colab_link": true
    },
    "kernelspec": {
      "display_name": "Python 3",
      "name": "python3"
    },
    "language_info": {
      "name": "python"
    }
  },
  "cells": [
    {
      "cell_type": "markdown",
      "metadata": {
        "id": "view-in-github",
        "colab_type": "text"
      },
      "source": [
        "<a href=\"https://colab.research.google.com/github/David-dmh/DL-PBA3/blob/main/DL_PBA3.ipynb\" target=\"_parent\"><img src=\"https://colab.research.google.com/assets/colab-badge.svg\" alt=\"Open In Colab\"/></a>"
      ]
    },
    {
      "cell_type": "code",
      "metadata": {
        "id": "V6rjiY9EcXQS"
      },
      "source": [
        "from google.colab import files\n",
        "from pydrive.auth import GoogleAuth\n",
        "from pydrive.drive import GoogleDrive\n",
        "from google.colab import auth\n",
        "from oauth2client.client import GoogleCredentials\n",
        "\n",
        "import pandas as pd\n",
        "import numpy as np\n",
        "import matplotlib.pyplot as plt\n",
        "import seaborn as sns\n",
        "import io\n",
        "import copy\n",
        "import os\n",
        "import time\n",
        "import random\n",
        "from random import randint\n",
        "import shutil\n",
        "\n",
        "from sklearn.model_selection import train_test_split\n",
        "from sklearn.metrics import mean_squared_error\n",
        "from sklearn.metrics import explained_variance_score\n",
        "import tensorflow as tf\n",
        "from tensorflow import keras\n",
        "from tensorflow.keras import layers\n",
        "from tensorflow.keras.callbacks import EarlyStopping\n",
        "from keras.preprocessing import image\n",
        "from tensorflow.keras.preprocessing.image import ImageDataGenerator\n",
        "from tensorflow.keras import datasets, layers, models, losses, Model\n",
        "from keras.regularizers import l1\n",
        "from keras.optimizers import Adam\n",
        "from keras.models import Sequential, Model\n",
        "from keras.layers import Input, Dense, Conv2D, MaxPooling2D, UpSampling2D, Conv2DTranspose\n",
        "from keras.layers import LSTM\n",
        "from keras.layers.embeddings import Embedding\n",
        "from keras.preprocessing import sequence"
      ],
      "execution_count": 1,
      "outputs": []
    },
    {
      "cell_type": "markdown",
      "metadata": {
        "id": "jJDdp1QLUNKg"
      },
      "source": [
        "# Convolutional Neural Networks"
      ]
    },
    {
      "cell_type": "code",
      "metadata": {
        "id": "M_hgMyzGUeI1"
      },
      "source": [
        "auth.authenticate_user()\n",
        "gauth = GoogleAuth()\n",
        "gauth.credentials = GoogleCredentials.get_application_default()\n",
        "drive = GoogleDrive(gauth)\n",
        "download = drive.CreateFile({\"id\": \"1HuImqzXa6gzpdr3v6tF_Nfgvj16rao2g\"})\n",
        "download.GetContentFile(\"x_train_planes.npy\")\n",
        "x_train_planes = np.load(\"x_train_planes.npy\")\n",
        "\n",
        "download = drive.CreateFile({\"id\": \"10a_hx_irAKWFdcjgpu7_DhlLJBt129vs\"})\n",
        "download.GetContentFile(\"y_train_planes.npy\")\n",
        "y_train_planes = np.load(\"y_train_planes.npy\")\n",
        "\n",
        "download = drive.CreateFile({\"id\": \"1zCM1BOs44Sp4wMHKE0idjTWHNnIyGX4R\"})\n",
        "download.GetContentFile(\"x_test_planes.npy\")\n",
        "x_test_planes = np.load(\"x_test_planes.npy\")\n",
        "\n",
        "download = drive.CreateFile({\"id\": \"1fYXPKl8yEacuHVpHxVb4G7awyLMO2JUC\"})\n",
        "download.GetContentFile(\"y_test_planes.npy\")\n",
        "y_test_planes = np.load(\"y_test_planes.npy\")"
      ],
      "execution_count": 3,
      "outputs": []
    },
    {
      "cell_type": "code",
      "metadata": {
        "colab": {
          "base_uri": "https://localhost:8080/"
        },
        "id": "9EQQ9v_pYDBa",
        "outputId": "af3ed2c7-c3b4-4d8d-96f3-210e2523efc5"
      },
      "source": [
        "print(x_train_planes.shape, y_train_planes.shape, x_test_planes.shape, y_test_planes.shape)"
      ],
      "execution_count": 4,
      "outputs": [
        {
          "output_type": "stream",
          "text": [
            "(25600, 20, 20, 3) (25600,) (6400, 20, 20, 3) (6400,)\n"
          ],
          "name": "stdout"
        }
      ]
    },
    {
      "cell_type": "code",
      "metadata": {
        "id": "ikgyHKa2YCw3"
      },
      "source": [
        ""
      ],
      "execution_count": null,
      "outputs": []
    },
    {
      "cell_type": "code",
      "metadata": {
        "id": "X0Bdnk-6YCk6"
      },
      "source": [
        ""
      ],
      "execution_count": null,
      "outputs": []
    },
    {
      "cell_type": "markdown",
      "metadata": {
        "id": "TsqcNn1baGyl"
      },
      "source": [
        "## i."
      ]
    },
    {
      "cell_type": "code",
      "metadata": {
        "id": "wx_O2WooaHfJ"
      },
      "source": [
        ""
      ],
      "execution_count": null,
      "outputs": []
    },
    {
      "cell_type": "markdown",
      "metadata": {
        "id": "5vCfDrbNaH5X"
      },
      "source": [
        "## ii."
      ]
    },
    {
      "cell_type": "markdown",
      "metadata": {
        "id": "6pw8-33VaHu2"
      },
      "source": [
        "## iii."
      ]
    },
    {
      "cell_type": "markdown",
      "metadata": {
        "id": "v_f9FIxEUM-2"
      },
      "source": [
        "# Long Short-Term Networks"
      ]
    },
    {
      "cell_type": "code",
      "metadata": {
        "id": "e2nQ5NhFUdo7"
      },
      "source": [
        ""
      ],
      "execution_count": null,
      "outputs": []
    },
    {
      "cell_type": "markdown",
      "metadata": {
        "id": "r60MkOuyUMu6"
      },
      "source": [
        "# A3C and GAN"
      ]
    },
    {
      "cell_type": "code",
      "metadata": {
        "id": "mctQhRGsUc2R"
      },
      "source": [
        ""
      ],
      "execution_count": null,
      "outputs": []
    }
  ]
}